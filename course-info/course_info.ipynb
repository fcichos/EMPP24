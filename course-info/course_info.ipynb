{
  "cells": [
    {
      "cell_type": "markdown",
      "metadata": {},
      "source": [
        "# Course Information\n",
        "\n",
        "# Vorlesender\n",
        "\n",
        "Email: *lastname@physik.uni-leipzig.de*\n",
        "\n",
        "-   Prof. Dr. Frank Cichos\n",
        "\n",
        "    -   Linnéstr. 5, 04103 Leipzig\n",
        "    -   Office: 322\n",
        "    -   Phone: +0341 97 32571"
      ],
      "id": "fbc7bdc5-d3ce-4291-bb9d-debeb5c10e74"
    }
  ],
  "nbformat": 4,
  "nbformat_minor": 5,
  "metadata": {
    "kernelspec": {
      "display_name": "Python 3",
      "language": "python",
      "name": "python3"
    }
  }
}