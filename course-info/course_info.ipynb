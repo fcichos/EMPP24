{
  "cells": [
    {
      "cell_type": "markdown",
      "metadata": {},
      "source": [
        "# Course Information\n",
        "\n",
        "# Vorlesender\n",
        "\n",
        "Email: *lastname@physik.uni-leipzig.de*\n",
        "\n",
        "-   Prof. Dr. Frank Cichos\n",
        "\n",
        "    -   Linnéstr. 5, 04103 Leipzig\n",
        "    -   Office: 322\n",
        "    -   Phone: +0341 97 32571"
      ],
      "id": "1f3d048b-f638-4478-8026-82e780d2a952"
    }
  ],
  "nbformat": 4,
  "nbformat_minor": 5,
  "metadata": {
    "kernelspec": {
      "display_name": "Python 3",
      "language": "python",
      "name": "python3"
    }
  }
}