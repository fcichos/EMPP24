{
  "cells": [
    {
      "cell_type": "markdown",
      "metadata": {},
      "source": [
        "# Prüfung\n",
        "\n",
        "## Erstteilnehmer\n",
        "\n",
        "Die Prüfungsleistung in diesem Modul ist eine Portfolio-Prüfung und\n",
        "besteht aus zwei Portfolio-Teilen:\n",
        "\n",
        "1.  Übungsaufgaben:\n",
        "    -   6 Serien von Aufgaben die nicht benotet werden\n",
        "    -   Mindestens 50% der Gesamtpunktzahl aller Übungsaufgaben muss\n",
        "        erreicht werden\n",
        "2.  Zwei Tests:\n",
        "    -   Jeder Test dauert 45 Minuten\n",
        "    -   Finden in Person während zwei separater Übungsseminare statt\n",
        "    -   Die Tests werden vorher angekündigt\n",
        "    -   Die Punkte beider Tests werden addiert und ergeben eine\n",
        "        Gesamtnote\n",
        "\n",
        "Wichtige Hinweise: - Beide Portfolio-Teile (Übungsaufgaben und Tests)\n",
        "müssen bestanden werden, um das Modul erfolgreich abzuschließen. - Die\n",
        "Gesamtnote der Tests entspricht der Abschlussnote des Moduls.\n",
        "\n",
        "## Wiederholer\n",
        "\n",
        "Hinweis für Studierende, die das Modul bereits im WS 2023/24 belegt\n",
        "haben und nun wiederholen: – Wenn Sie im WS 2023/24 50 % in den\n",
        "Übungsaufgaben erreicht haben, müssen Sie in diesem Semester nur noch\n",
        "das Projekt abgeben. Eine Liste zu den erreichten Übungspunkten werden\n",
        "wir nochmals im internen Bereich auf dieser Webseite veröffentlichen. –\n",
        "Wenn Sie im WS 2023/24 nicht 50 % in den Übungsaufgaben erreicht haben,\n",
        "müssen Sie in diesem Semester Übungsaufgaben abgeben und das Projekt\n",
        "abgeben. – Eine erneute Einschreibung in das Modul ist nicht notwendig,\n",
        "wenn Sie das Modul wiederholen. Für den Zugang zum Moodle-Kurs\n",
        "kontaktieren Sie bitte Andrea Kramer per email von Ihrer\n",
        "Uni-E-Mail-Adresse aus. – Die Abgabefrist für das Projekt der\n",
        "Wiederholer ist der 12.03.2025 um 13:00 Uhr. Abgaben, die nach 13:00 Uhr\n",
        "eingehen, werden nicht berücksichtigt."
      ],
      "id": "15a650b6-d16b-400e-96f5-9e58d1c2e033"
    }
  ],
  "nbformat": 4,
  "nbformat_minor": 5,
  "metadata": {
    "kernelspec": {
      "display_name": "Python 3",
      "language": "python",
      "name": "python3"
    }
  }
}