{
  "cells": [
    {
      "cell_type": "markdown",
      "metadata": {},
      "source": [
        "# Exam\n",
        "\n",
        "# Prüfung\n",
        "\n",
        "-   Die Prüfungsleistung in diesem Modul ist eine Portfolio-Prüfung unf\n",
        "    besteht aus zwei Teilen:\n",
        "    1.  Übungsaufgaben, 6 Serien, 50% der PUnkte auf alle Übungsaufgaben\n",
        "        müssen erhalten werden\n",
        "    2.  2 45 minütige angekündigte Tests, die in Person in zwei\n",
        "        Übungsseminaren stattfinden, deren Punkte zusammenzählen und\n",
        "        insgesamt mit einer Note bewertet werden.\n",
        "\n",
        "    Beide Portfolio-Teile müssen bestanden werden, um das Modul zu\n",
        "    bestehen. Die Note der Tests ist dann auch die Abschlussnote."
      ],
      "id": "17668458-ee12-4406-a31b-f15e815fd270"
    }
  ],
  "nbformat": 4,
  "nbformat_minor": 5,
  "metadata": {
    "kernelspec": {
      "display_name": "Python 3",
      "language": "python",
      "name": "python3"
    }
  }
}