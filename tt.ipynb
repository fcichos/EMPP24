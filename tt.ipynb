{
  "cells": [
    {
      "cell_type": "markdown",
      "metadata": {},
      "source": [
        "# Introduction to Python and Basic Calculations\n",
        "\n",
        "## What is Jupyter Notebook?\n",
        "\n",
        "A Jupyter Notebook is a web browser based **interactive computing environment** that enables users to create documents that include code to be executed, results from the executed code such as plots and imas,and finally also an additional documentation in form of markdown text including equations in LaTeX.\n",
        "\n",
        "These documents provide a **complete and self-contained record of a computation** that can be converted to various formats and shared with others using email,  version control systems (like git/[GitHub](https://github.com)) or [nbviewer.jupyter.org](http://nbviewer.jupyter.org).\n",
        "\n",
        "## Key Components of a Notebook\n",
        "\n",
        "The Jupyter Notebook combines three components:\n",
        "\n",
        "::: {.callout-note title=\"Notebook editor\"}\n",
        "The Notebook editor is an interactive application for writing and running code interactively and editing notebook documents.  If you run Jupyter on a server, you will be using Jupyter's web application or JupyterLab, which is a more advanced version of the notebook editor.\n",
        ":::\n",
        "\n",
        "The Notebook editor enables you to\n",
        "\n",
        "* **Edit code** in individual cell\n",
        "* **Run code** in individuall cells in arbitrary oder and display results of the computation in various formats (HTML, LaTeX, PNG, SVG, PDF)\n",
        "* Create and use **interactive JavaScript widgets**, which bind interactive user interface controls and visualizations to reactive kernel side computations.\n",
        "* Add **documentation text** using [Markdown](https://daringfireball.net/projects/markdown/) markup language, including LaTeX equations\n",
        "\n",
        "\n",
        "::: {.callout-note title=\"Kernels\"}\n",
        "Kernels are separate processes started by Jupyter on your server, that runs users' code in a given language and returns output back to the notebook web application. The kernel also handles things like computations for interactive widgets, tab completion and introspection.\n",
        ":::\n",
        "\n",
        "The Jupyter notebook is not bound to any specific programming language, but can be used for almost any type of language. Each Jupyter notebook starts a server application that is connected to a kernel that runs the code in the notebook. This kernel is dedicated to a specific programming language. Thus installing different kernels [100+ languages](https://github.com/jupyter/jupyter/wiki/Jupyter-kernels) allows you to execute code in  **Python**, **Julia**, **R**, **Ruby**, **Haskell**, **Scala**, and many others.\n",
        "\n",
        "Yet, the default kernel runs Python code. The notebook provides a simple way for users to pick which of these kernels is used for a given notebook. Each of these kernels communicate with the notebook editor using JSON over ZeroMQ/WebSockets message protocol that is described [here](https://jupyter-client.readthedocs.io/en/latest/messaging.html#messaging). Most users don't need to know about these details, but it helps to understand that \"kernels run code\".\n",
        "\n",
        "\n",
        "::: {.callout-note title=\"Notebook documents\"}\n",
        "Self-contained documents that contain a representation of all content visible in the notebook editor, including inputs and outputs of the computations, markdown text, equations, images, and rich media representations of objects. Each notebook document has its own kernel.\n",
        ":::\n",
        "\n",
        "\n",
        "Notebook documents, or notebooks, contain the **inputs and outputs** of an interactive session as well as **documentation text** that accompanies the code but is not meant for execution.\n",
        "\n",
        "A notebook is just a **file on your server's filesystem with a `.ipynb` extension**. This allows you to share your notebook easily.\n",
        "\n",
        "Notebooks consist of a **linear sequence of cells**. There are three basic cell types:\n",
        "\n",
        "* **Code cells:** Input and output of live code that is run in the kernel.\n",
        "* **Markdown cells:** Narrative text with embedded LaTeX equations.\n",
        "* **Raw cells:** Unformatted text that is included, without modification, when notebooks are converted to different formats using `nbconvert`.\n",
        "\n",
        "Internally, notebook documents are **[JSON](https://en.wikipedia.org/wiki/JSON)  text files** with **binary data encoded in   [base64](http://en.wikipedia.org/wiki/Base64)**. This allows them to be **read and manipulated programmatically** by any programming language.\n",
        "\n",
        "**Notebooks can be exported** to different static formats including HTML, reStructeredText, LaTeX, PDF, and slide shows ([reveal.js](http://lab.hakim.se/reveal-js/)) using Jupyter's `nbconvert` utility.\n",
        "\n",
        "Furthermore, any notebook document available from a **public URL on or GitHub can be shared** via [nbviewer](http://nbviewer.jupyter.org). This service loads the notebook document from the URL and renders it as a static web page. The resulting web page may thus be shared with others **without their needing to install the Jupyter Notebook**.\n",
        "\n",
        "\n",
        "## Using the Notebook Editor\n"
      ]
    },
    {
      "cell_type": "code",
      "execution_count": null,
      "metadata": {},
      "outputs": [],
      "source": [
        "#| echo: false\n",
        "#| fig-cap: Jupyter Notebook Editor\n",
        "\n",
        "from IPython.display import Image, display;\n",
        "display(Image(filename='img/notebook.png'))"
      ]
    },
    {
      "cell_type": "markdown",
      "metadata": {},
      "source": [
        "A Jupyter Notebook provides an interface with essentially two modes\n",
        "\n",
        "\n",
        "\n",
        "* **edit mode** the mode where you edit a cells content.\n",
        "* **command mode** the mode where you execute the cells content.\n",
        "\n",
        "In the more advanced version of JupyterLab, which we are using on myBinder, this will look like that\n",
        "\n",
        "### Edit mode\n",
        "\n",
        "Edit mode is indicated by a blue cell border and a prompt showing in the editor area:"
      ]
    },
    {
      "cell_type": "code",
      "execution_count": null,
      "metadata": {
        "slideshow": {
          "slide_type": "fragment"
        }
      },
      "outputs": [],
      "source": [
        "#| echo: false\n",
        "display(Image(filename='img/edit_mode.png'))"
      ]
    },
    {
      "cell_type": "markdown",
      "metadata": {},
      "source": [
        "When a cell is in edit mode, you can type into the cell, like a normal text editor.\n",
        "\n",
        "### Command mode\n",
        "\n",
        "Command mode is indicated by a grey cell border:\n",
        "\n",
        "If you have a hardware keyboard connected to your iOS device, you can use Jupyter keyboard shortcuts. The modal user interface of the Jupyter Notebook has been optimized for efficient keyboard usage. This is made possible by having two different sets of keyboard shortcuts: one set that is active in edit mode and another in command mode."
      ]
    },
    {
      "cell_type": "code",
      "execution_count": null,
      "metadata": {
        "slideshow": {
          "slide_type": "fragment"
        }
      },
      "outputs": [],
      "source": [
        "#| echo: false\n",
        "display(Image(filename='img/command_mode.png'))"
      ]
    },
    {
      "cell_type": "markdown",
      "metadata": {},
      "source": [
        "### Keyboard navigation\n",
        "\n",
        "In edit mode, most of the keyboard is dedicated to typing into the cell's editor. Thus, in edit mode there are relatively few shortcuts.  In command mode, the entire keyboard is available for shortcuts, so there are many more. Most important ones are:\n",
        "\n",
        "1. Switch command and edit mods: `Enter` for edit mode, and `Esc` or `Control` for command mode.\n",
        "2. Basic navigation: `↑`/`k`, `↓`/`j`\n",
        "3. Run or render currently selected cell: `Shift`+`Enter` or `Control`+`Enter`\n",
        "4. Saving the notebook: `s`\n",
        "5. Change Cell types: `y` to make it a **code** cell, `m` for **markdown** and `r` for **raw**\n",
        "6. Inserting new cells: `a` to **insert above**, `b` to **insert below**\n",
        "7. Manipulating cells using pasteboard: `x` for **cut**, `c` for **copy**, `v` for **paste**, `d` for **delete** and `z` for **undo delete**\n",
        "8. Kernel operations: `i` to **interrupt** and `0` to **restart**\n",
        "\n",
        "### Running code in your notebook\n",
        "\n",
        "Code cells allow you to enter and run code. Run a code cell by pressing the `▶︎` button in the bottom-right panel, or `Control`+`Enter` on your hardware keyboard."
      ]
    },
    {
      "cell_type": "code",
      "execution_count": null,
      "metadata": {
        "slideshow": {
          "slide_type": "fragment"
        }
      },
      "outputs": [],
      "source": [
        "v = 23752636\n",
        "print(v)"
      ]
    },
    {
      "cell_type": "markdown",
      "metadata": {},
      "source": [
        "There are a couple of keyboard shortcuts for running code:\n",
        "\n",
        "* `Control`+`Enter` run the current cell and enters command mode.\n",
        "* `Shift`+`Enter` runs the current cell and moves selection to the one below.\n",
        "* `Option`+`Enter` runs the current cell and inserts a new one below.\n",
        "\n",
        "## Managing the kernel\n",
        "\n",
        "Code is run in a separate process called the **kernel**, which can be interrupted or restarted. You can see kernel indicator in the top-right corner reporting current kernel state: `⚪︎` means kernel is **ready** to execute code, and `⚫︎` means kernel is currently **busy**. Tapping kernel indicator will open **kernel menu**, where you can reconnect, interrupt or restart kernel.\n",
        "\n",
        "Try running the following cell — kernel indicator will switch from `⚪︎` to `⚫︎`, i.e. reporting kernel as \"busy\". This means that you won't be able to run any new cells until current execution finishes, or until kernel is interrupted. You can then go to kernel menu by tapping the kernel indicator and select \"Interrupt\".\n",
        "\n",
        "Entering code is pretty easy. You just have to click into a cell and type the commands you want to type.\n",
        "If you have multiple lines of code, just press **enter** at the end of the line and start a new one.\n",
        "\n",
        "- **code blocks**\n",
        "Python identifies blocks of codes belonging together by its identation. This will become important if you write longer code in a cell later. To indent the block, you may use either *whitespaces* or *tabs*.\n",
        "\n",
        "- **comments** Comments can be added to annotate the code, such that you or someone else can understand the code.\n",
        "    - Comments in a single line are started with the `#` character at in front of the comment.\n",
        "    - Comments over multiple lines can be started with `'''`and end with the same `'''`. They are used as `docstrings` to provide a help text."
      ]
    },
    {
      "cell_type": "code",
      "execution_count": null,
      "metadata": {
        "slideshow": {
          "slide_type": "subslide"
        }
      },
      "outputs": [],
      "source": [
        "# typical function\n",
        "\n",
        "def function(x):\n",
        "    ''' function to calculate a function\n",
        "    arguments:\n",
        "        x ... float or integer value\n",
        "    returns:\n",
        "        y ... two times the integer value\n",
        "    '''\n",
        "    y=2*x # don't forget the identation of the block\n",
        "    return(y)\n",
        "\n",
        "help(function)"
      ]
    },
    {
      "cell_type": "markdown",
      "metadata": {},
      "source": [
        "## Entering Markdown\n",
        "\n",
        "Text can be added to Jupyter Notebooks using Markdown cells. This is extremely useful providing a complete documentation of your calculations or simulations. In this way, everything really becomes an notebook.\n",
        "You can change the cell type to Markdown by using the \"Cell Actions\" menu, or with a hardware keyboard shortcut `m`.  Markdown is a popular markup language that is a superset of HTML. Its specification can be found here:\n",
        "\n",
        "<https://daringfireball.net/projects/markdown/>\n",
        "\n",
        "Markdown cells can either be **rendered** or **unrendered**.\n",
        "\n",
        "When they are rendered, you will see a nice formatted representation of the cell's contents.\n",
        "\n",
        "When they are unrendered, you will see the raw text source of the cell. To render the selected cell, click the `▶︎` button or `shift`+ `enter`. To unrender, select the  markdown cell, and press ` enter` or just double click.\n",
        "\n",
        "### Markdown basics\n",
        "\n",
        "Below are some basic markdown examples, in its rendered form. If you which to access how to create specific appearances, double click the individual cells to put the into an unrendered edit mode.\n",
        "\n",
        "You can make text *italic* or **bold**.\n",
        "\n",
        "You can build nested itemized or enumerated lists:\n",
        "\n",
        "* first item\n",
        "    - first subitem\n",
        "        - first subsubitem\n",
        "  - second subitem\n",
        "        - first subitem of second subitem\n",
        "        - second subitem of second subitem\n",
        "* second item\n",
        "  - first subitem\n",
        "* third item\n",
        "  - first subitem\n",
        "\n",
        "Now another list:\n",
        "\n",
        "1. Here we go\n",
        "    1. Sublist\n",
        "        2. Sublist\n",
        "2. There we go\n",
        "3. Now this\n",
        "\n",
        "Here is a blockquote:\n",
        "\n",
        "> Beautiful is better than ugly.\n",
        "> Explicit is better than implicit.\n",
        "> Simple is better than complex.\n",
        "> Complex is better than complicated.\n",
        "> Flat is better than nested.\n",
        "> Sparse is better than dense.\n",
        "> Readability counts.\n",
        "> Special cases aren't special enough to break the rules.\n",
        "> Although practicality beats purity.\n",
        "> Errors should never pass silently.\n",
        "> Unless explicitly silenced.\n",
        "> In the face of ambiguity, refuse the temptation to guess.\n",
        "> There should be one-- and preferably only one --obvious way to do it.\n",
        "> Although that way may not be obvious at first unless you're Dutch.\n",
        "> Now is better than never.\n",
        "> Although never is often better than *right* now.\n",
        "> If the implementation is hard to explain, it's a bad idea.\n",
        "> If the implementation is easy to explain, it may be a good idea.\n",
        "> Namespaces are one honking great idea -- let's do more of those!\n",
        "\n",
        "And shorthand for links:\n",
        "\n",
        "[Jupyter's website](http://jupyter.org)\n",
        "\n",
        "### Headings\n",
        "\n",
        "You can add headings by starting a line with one (or multiple) `#` followed by a space, as in the following example:\n",
        "\n",
        "```\n",
        "# Heading 1\n",
        "# Heading 2\n",
        "## Heading 2.1\n",
        "## Heading 2.2\n",
        "### Heading 2.2.1\n",
        "```\n",
        "\n",
        "### Embedded code\n",
        "\n",
        "You can embed code meant for illustration instead of execution in Python:\n",
        "\n",
        "    def f(x):\n",
        "        \"\"\"a docstring\"\"\"\n",
        "        return x**2\n",
        "\n",
        "or other languages:\n",
        "\n",
        "    if (i=0; i<n; i++) {\n",
        "      printf(\"hello %d\\n\", i);\n",
        "      x += 4;\n",
        "    }\n",
        "\n",
        "### LaTeX equations\n",
        "\n",
        "Courtesy of MathJax, you can include mathematical expressions both inline:\n",
        "$e^{i\\pi} + 1 = 0$  and displayed:\n",
        "\n",
        "$$e^x=\\sum_{i=0}^\\infty \\frac{1}{i!}x^i$$\n",
        "\n",
        "Inline expressions can be added by surrounding the latex code with `$`:\n",
        "\n",
        "```\n",
        "$e^{i\\pi} + 1 = 0$\n",
        "```\n",
        "\n",
        "Expressions on their own line are surrounded by `$$`:\n",
        "\n",
        "```latex\n",
        "$$e^x=\\sum_{i=0}^\\infty \\frac{1}{i!}x^i$$\n",
        "```\n",
        "\n",
        "### Images\n",
        "\n",
        "Images may be also directly integrated into a Markdown block.\n",
        "\n",
        "To include images use\n",
        "\n",
        "~~~\n",
        "![alternative text](url)\n",
        "~~~\n",
        "\n",
        "for example\n",
        "\n",
        "![alternative text](img/particle.png)"
      ]
    },
    {
      "cell_type": "code",
      "execution_count": null,
      "metadata": {
        "slideshow": {
          "slide_type": "subslide"
        }
      },
      "outputs": [],
      "source": [
        "from IPython.display import Image, display;\n",
        "import ssl\n",
        "from urllib.request import urlopen\n",
        "\n",
        "# URL of the image\n",
        "url = \"https://github.com/fcichos/CompSoft23/raw/master/source/notebooks/Intro/img/particle.png\"\n",
        "\n",
        "# Create an SSL context that does not verify certificates\n",
        "ssl._create_default_https_context = ssl._create_unverified_context\n",
        "\n",
        "# Open the URL and display the image\n",
        "with urlopen(url) as response:\n",
        "    display(Image(response.read()))"
      ]
    },
    {
      "cell_type": "code",
      "execution_count": null,
      "metadata": {
        "slideshow": {
          "slide_type": "fragment"
        }
      },
      "outputs": [],
      "source": [
        "display(Image(filename='img/particle.png'))"
      ]
    },
    {
      "cell_type": "markdown",
      "metadata": {},
      "source": [
        "### Videos\n",
        "\n",
        "To include videos, we use HTML code like\n",
        "\n",
        "~~~\n",
        "<video src=\"mov/movie.mp4\" width=\"320\" height=\"200\" controls preload></video>\n",
        "~~~\n",
        "\n",
        "in the Markdown cell. This works with videos stored locally.\n",
        "\n",
        "<video src=\"mov/movie.mp4\" width=\"320\" height=\"200\" controls></video>\n",
        "\n",
        "You can embed YouTube Videos as well by using the `IPython` module."
      ]
    },
    {
      "cell_type": "code",
      "execution_count": null,
      "metadata": {
        "slideshow": {
          "slide_type": "subslide"
        }
      },
      "outputs": [],
      "source": [
        "from IPython.display import YouTubeVideo\n",
        "YouTubeVideo('QlLx32juGzI',width=600)"
      ]
    },
    {
      "cell_type": "markdown",
      "metadata": {},
      "source": [
        "### Python Basics\n",
        "  - Variables and data types (integers, floats, strings).\n",
        "  - Basic arithmetic operations (+, -, *, /, **).\n",
        "\n",
        "\n",
        "\n",
        "## Introduction to Variables\n",
        "\n",
        "### Symbol Names\n",
        "\n",
        "Variable names in Python can include alphanumerical characters `a-z`, `A-Z`, `0-9`, and the special character `_`. Normal variable names must start with a letter.\n",
        "\n",
        "By convention, variable names typically start with a lower-case letter, while Class names start with a capital letter.\n",
        "\n",
        "::: {.callout-warning}\n",
        "**Note:** Reserved Keywords\n",
        "\n",
        "There are a number of Python keywords that cannot be used as variable names. These keywords are:\n",
        "\n",
        "`and`, `as`, `assert`, `break`, `class`, `continue`, `def`, `del`, `elif`, `else`, `except`, `exec`, `finally`, `for`, `from`, `global`, `if`, `import`, `in`, `is`, `lambda`, `not`, `or`, `pass`, `print`, `raise`, `return`, `try`, `while`, `with`, `yield`\n",
        "\n",
        "Be aware of the keyword `lambda`, which could easily be a natural variable name in a scientific program. However, as a reserved keyword, it cannot be used as a variable name.\n",
        ":::\n",
        "\n",
        "### Variable Assignment\n",
        "\n",
        "The assignment operator in Python is `=`. Python is a dynamically typed language, so we do not need to specify the type of a variable when we create one.\n",
        "\n",
        "Assigning a value to a new variable creates the variable:"
      ]
    },
    {
      "cell_type": "code",
      "execution_count": 1,
      "metadata": {},
      "outputs": [
        {
          "data": {
            "text/plain": [
              "1.0"
            ]
          },
          "execution_count": 1,
          "metadata": {},
          "output_type": "execute_result"
        }
      ],
      "source": [
        "# variable assignments\n",
        "x = 1.0\n",
        "my_favorite_variable = 12.2\n",
        "x"
      ]
    },
    {
      "cell_type": "markdown",
      "metadata": {},
      "source": [
        "Although not explicitly specified, a variable does have a type associated with it. The type is derived from the value that was assigned to it."
      ]
    },
    {
      "cell_type": "code",
      "execution_count": 2,
      "metadata": {},
      "outputs": [
        {
          "data": {
            "text/plain": [
              "float"
            ]
          },
          "execution_count": 2,
          "metadata": {},
          "output_type": "execute_result"
        }
      ],
      "source": [
        "type(x)"
      ]
    },
    {
      "cell_type": "markdown",
      "metadata": {},
      "source": [
        "If we assign a new value to a variable, its type can change."
      ]
    },
    {
      "cell_type": "code",
      "execution_count": 3,
      "metadata": {},
      "outputs": [],
      "source": [
        "x = 1"
      ]
    },
    {
      "cell_type": "code",
      "execution_count": 4,
      "metadata": {},
      "outputs": [
        {
          "data": {
            "text/plain": [
              "int"
            ]
          },
          "execution_count": 4,
          "metadata": {},
          "output_type": "execute_result"
        }
      ],
      "source": [
        "type(x)"
      ]
    },
    {
      "cell_type": "markdown",
      "metadata": {},
      "source": [
        "If we try to use a variable that has not yet been defined, we get a `NameError`:"
      ]
    },
    {
      "cell_type": "code",
      "execution_count": 5,
      "metadata": {},
      "outputs": [],
      "source": [
        "#print(g)"
      ]
    },
    {
      "cell_type": "markdown",
      "metadata": {},
      "source": [
        "## Number Types\n",
        "\n",
        "### Overview of Number Types\n",
        "\n",
        "Python supports various number types, including integers, floating-point numbers, and complex numbers.\n",
        "\n",
        "### Integers\n",
        "\n",
        "- **Integer Representation:** Numbers without a decimal point are treated as integers."
      ]
    },
    {
      "cell_type": "code",
      "execution_count": 6,
      "metadata": {},
      "outputs": [
        {
          "data": {
            "text/plain": [
              "int"
            ]
          },
          "execution_count": 6,
          "metadata": {},
          "output_type": "execute_result"
        }
      ],
      "source": [
        "x = 1\n",
        "type(x)"
      ]
    },
    {
      "cell_type": "markdown",
      "metadata": {},
      "source": [
        "- **Binary, Octal, and Hexadecimal:** Integers can be represented in different bases:"
      ]
    },
    {
      "cell_type": "code",
      "execution_count": 7,
      "metadata": {},
      "outputs": [
        {
          "data": {
            "text/plain": [
              "15"
            ]
          },
          "execution_count": 7,
          "metadata": {},
          "output_type": "execute_result"
        }
      ],
      "source": [
        "0b1010111110  # Binary\n",
        "0x0F          # Hexadecimal"
      ]
    },
    {
      "cell_type": "markdown",
      "metadata": {},
      "source": [
        "### Floating Point Numbers\n",
        "\n",
        "- **Floating Point Representation:** Numbers with a decimal point are treated as floating-point values."
      ]
    },
    {
      "cell_type": "code",
      "execution_count": 8,
      "metadata": {},
      "outputs": [
        {
          "data": {
            "text/plain": [
              "float"
            ]
          },
          "execution_count": 8,
          "metadata": {},
          "output_type": "execute_result"
        }
      ],
      "source": [
        "x = 3.141\n",
        "type(x)"
      ]
    },
    {
      "cell_type": "markdown",
      "metadata": {},
      "source": [
        "- **Maximum Float Value:** Python handles large floats, converting them to infinity if they exceed the maximum representable value."
      ]
    },
    {
      "cell_type": "code",
      "execution_count": 9,
      "metadata": {},
      "outputs": [
        {
          "data": {
            "text/plain": [
              "inf"
            ]
          },
          "execution_count": 9,
          "metadata": {},
          "output_type": "execute_result"
        }
      ],
      "source": [
        "1.7976931348623157e+308 * 2  # Output: inf"
      ]
    },
    {
      "cell_type": "markdown",
      "metadata": {},
      "source": [
        "### Complex Numbers\n",
        "\n",
        "- **Complex Number Representation:** Complex numbers have a real and an imaginary part."
      ]
    },
    {
      "cell_type": "code",
      "execution_count": 10,
      "metadata": {},
      "outputs": [
        {
          "data": {
            "text/plain": [
              "complex"
            ]
          },
          "execution_count": 10,
          "metadata": {},
          "output_type": "execute_result"
        }
      ],
      "source": [
        "c = 2 + 4j\n",
        "type(c)"
      ]
    },
    {
      "cell_type": "markdown",
      "metadata": {},
      "source": [
        "- **Accessors for Complex Numbers:**\n",
        "  - `c.real`: Real part of the complex number.\n",
        "  - `c.imag`: Imaginary part of the complex number."
      ]
    },
    {
      "cell_type": "code",
      "execution_count": 11,
      "metadata": {},
      "outputs": [
        {
          "name": "stdout",
          "output_type": "stream",
          "text": [
            "2.0\n",
            "4.0\n"
          ]
        }
      ],
      "source": [
        "print(c.real)\n",
        "print(c.imag)"
      ]
    },
    {
      "cell_type": "markdown",
      "metadata": {},
      "source": [
        "- **Complex Conjugate:** Use the `.conjugate()` method to get the complex conjugate."
      ]
    },
    {
      "cell_type": "code",
      "execution_count": 12,
      "metadata": {},
      "outputs": [
        {
          "name": "stdout",
          "output_type": "stream",
          "text": [
            "(2-4j)\n"
          ]
        }
      ],
      "source": [
        "c = c.conjugate()\n",
        "print(c)"
      ]
    },
    {
      "cell_type": "markdown",
      "metadata": {},
      "source": [
        "## Type Conversion\n",
        "\n",
        "### Implicit Type Conversion\n",
        "\n",
        "- **Automatic Conversion:** Python automatically converts types during operations."
      ]
    },
    {
      "cell_type": "code",
      "execution_count": null,
      "metadata": {},
      "outputs": [],
      "source": [
        "integer_number = 123\n",
        "float_number = 1.23\n",
        "new_number = integer_number + float_number\n",
        "type(new_number)"
      ]
    },
    {
      "cell_type": "markdown",
      "metadata": {},
      "source": [
        "### Explicit Type Conversion\n",
        "\n",
        "- **Manual Conversion:** Use functions like `int()`, `float()`, and `str()` to explicitly convert types."
      ]
    },
    {
      "cell_type": "code",
      "execution_count": null,
      "metadata": {},
      "outputs": [],
      "source": [
        "num_string = \"12\"\n",
        "num_string = int(num_string)\n",
        "type(num_string)"
      ]
    },
    {
      "cell_type": "markdown",
      "metadata": {},
      "source": [
        "- **Converting Between Types:**"
      ]
    },
    {
      "cell_type": "code",
      "execution_count": null,
      "metadata": {},
      "outputs": [],
      "source": [
        "x = 5 / 2\n",
        "x = int(x)\n",
        "z = complex(x)"
      ]
    },
    {
      "cell_type": "markdown",
      "metadata": {},
      "source": [
        "- **Handling Complex Numbers:**\n",
        "  - Complex numbers cannot be directly converted to floats or integers; extract the real or imaginary part first."
      ]
    },
    {
      "cell_type": "code",
      "execution_count": null,
      "metadata": {},
      "outputs": [],
      "source": [
        "y = bool(z.real)\n",
        "print(z.real, \" -> \", y, type(y))"
      ]
    },
    {
      "cell_type": "markdown",
      "metadata": {},
      "source": [
        "### Application\n"
      ]
    },
    {
      "cell_type": "code",
      "execution_count": null,
      "metadata": {},
      "outputs": [],
      "source": [
        "# 1. Converting Units of Distance\n",
        "# Distance in kilometers\n",
        "distance_km = 5.0\n",
        "\n",
        "# Conversion factor from kilometers to meters\n",
        "conversion_factor = 1000\n",
        "\n",
        "# Convert distance to meters\n",
        "distance_meters = distance_km * conversion_factor\n",
        "\n",
        "# 2. Calculating Time from Distance and Speed\n",
        "# Given distance in meters\n",
        "distance = 1000.0  # meters\n",
        "\n",
        "# Given speed in meters per second\n",
        "speed = 5.0  # meters per second\n",
        "\n",
        "# Calculate time in seconds\n",
        "time = distance / speed\n",
        "\n",
        "# 3. Energy Calculation Using Kinetic Energy Formula\n",
        "# Mass in kilograms\n",
        "mass = 70.0  # kg\n",
        "\n",
        "# Velocity in meters per second\n",
        "velocity = 10.0  # m/s\n",
        "\n",
        "# Calculate kinetic energy\n",
        "kinetic_energy = 0.5 * mass * velocity ** 2\n",
        "\n",
        "# 4. Temperature Conversion (Celsius to Fahrenheit)\n",
        "# Temperature in Celsius\n",
        "temp_celsius = 25.0  # degrees Celsius\n",
        "\n",
        "# Convert to Fahrenheit\n",
        "temp_fahrenheit = (temp_celsius * 9/5) + 32\n",
        "\n",
        "# 5. Power Calculation Using Work and Time\n",
        "# Work done in joules\n",
        "work_done = 500.0  # joules\n",
        "\n",
        "# Time taken in seconds\n",
        "time_taken = 20.0  # seconds\n",
        "\n",
        "# Calculate power\n",
        "power_output = work_done / time_taken\n",
        "\n",
        "# 6. Calculating Force Using Newton's Second Law\n",
        "# Mass in kilograms\n",
        "mass = 10.0  # kg\n",
        "\n",
        "# Acceleration in meters per second squared\n",
        "acceleration = 9.8  # m/s^2\n",
        "\n",
        "# Calculate force\n",
        "force = mass * acceleration\n",
        "\n",
        "# Output Results\n",
        "print(f\"Distance in meters: {distance_meters} m\")\n",
        "print(f\"Time to travel {distance} meters at {speed} m/s: {time} seconds\")\n",
        "print(f\"Kinetic energy: {kinetic_energy} joules\")\n",
        "print(f\"Temperature in Fahrenheit: {temp_fahrenheit} °F\")\n",
        "print(f\"Power output: {power_output} watts\")\n",
        "print(f\"Force: {force} newtons\")"
      ]
    },
    {
      "cell_type": "markdown",
      "metadata": {},
      "source": [
        "- Simple calculations relevant to physics, such as converting units or calculating simple quantities (e.g., distance = speed × time).\n",
        "  - Homework: Basic practice problems to reinforce Python syntax and operations."
      ]
    }
  ],
  "metadata": {
    "kernelspec": {
      "display_name": "Python 3 (ipykernel)",
      "language": "python",
      "name": "python3"
    },
    "language_info": {
      "codemirror_mode": {
        "name": "ipython",
        "version": 3
      },
      "file_extension": ".py",
      "mimetype": "text/x-python",
      "name": "python",
      "nbconvert_exporter": "python",
      "pygments_lexer": "ipython3",
      "version": "3.11.9"
    }
  },
  "nbformat": 4,
  "nbformat_minor": 4
}
