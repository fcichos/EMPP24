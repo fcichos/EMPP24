{
 "cells": [
  {
   "cell_type": "markdown",
   "metadata": {
    "slideshow": {
     "slide_type": "slide"
    }
   },
   "source": [
    "\n",
    "# Input and output"
   ]
  },
  {
   "cell_type": "markdown",
   "metadata": {
    "slideshow": {
     "slide_type": "subslide"
    }
   },
   "source": [
    "## Keyboard input\n",
    "\n",
    "Python has a function called *input* for getting input from the user and assigning it a variable name."
   ]
  },
  {
   "cell_type": "code",
   "execution_count": 15,
   "metadata": {
    "ExecuteTime": {
     "end_time": "2019-04-23T11:40:28.505551Z",
     "start_time": "2019-04-23T11:40:26.099983Z"
    },
    "slideshow": {
     "slide_type": "fragment"
    },
    "tags": []
   },
   "outputs": [
    {
     "name": "stdout",
     "output_type": "stream",
     "text": [
      "Tell me a number:  78898.9\n"
     ]
    },
    {
     "data": {
      "text/plain": [
       "str"
      ]
     },
     "execution_count": 15,
     "metadata": {},
     "output_type": "execute_result"
    }
   ],
   "source": [
    "value=input(\"Tell me a number: \")\n",
    "type(value)"
   ]
  },
  {
   "cell_type": "markdown",
   "metadata": {
    "slideshow": {
     "slide_type": "subslide"
    }
   },
   "source": [
    "The value contains the keyboard input as expected, but it is a string. We want to use a number and not a string, so we need to convert it from a string to a number."
   ]
  },
  {
   "cell_type": "code",
   "execution_count": 17,
   "metadata": {
    "ExecuteTime": {
     "end_time": "2019-04-23T11:40:30.885552Z",
     "start_time": "2019-04-23T11:40:30.881371Z"
    },
    "slideshow": {
     "slide_type": "fragment"
    },
    "tags": []
   },
   "outputs": [
    {
     "data": {
      "text/plain": [
       "float"
      ]
     },
     "execution_count": 17,
     "metadata": {},
     "output_type": "execute_result"
    }
   ],
   "source": [
    "v = eval(value)\n",
    "type(v)"
   ]
  },
  {
   "cell_type": "markdown",
   "metadata": {
    "slideshow": {
     "slide_type": "subslide"
    }
   },
   "source": [
    "## Screen output\n",
    "\n",
    "Screen output is possible by using the `print` command. The argument of the print function can be of different type. "
   ]
  },
  {
   "cell_type": "markdown",
   "metadata": {},
   "source": [
    "### str.format() Formatting"
   ]
  },
  {
   "cell_type": "markdown",
   "metadata": {
    "slideshow": {
     "slide_type": "fragment"
    }
   },
   "source": [
    "You can format your output by modifying the string given to the `print` function by `str.format()`, The `str` contains text that is written to be the screen, as well as certain format specifiers contained in curly braces {}. The format function contains the list of variables that are to be printed. "
   ]
  },
  {
   "cell_type": "code",
   "execution_count": 18,
   "metadata": {
    "ExecuteTime": {
     "end_time": "2019-04-23T11:47:10.560384Z",
     "start_time": "2019-04-23T11:47:10.550855Z"
    },
    "slideshow": {
     "slide_type": "subslide"
    },
    "tags": []
   },
   "outputs": [
    {
     "name": "stdout",
     "output_type": "stream",
     "text": [
      " ***\n",
      "How\n",
      "How are you my friend?\n",
      " 1. How are you my friend?\n",
      " 2. How are you my friend?\n",
      " 3. How How are you my friend? - How are you my friend?\n",
      " 4. How       are you my friend?\n",
      " ***\n",
      "34 942885\n",
      " 6. 34 942885\n",
      " 7.       34     942885\n",
      " ***\n",
      " 8. -3.000\n",
      " 9. -3.000\n",
      "10.   -3.000\n",
      " 11.   -3.000 11.   -3.000\n",
      " ***\n",
      "12. 3.142e-14\n",
      "13.  3.142e-14\n",
      "14.      0.000\n",
      " ***\n",
      "15. 12345678901234567890\n",
      "16. are you my friend?--      34, 3.142e-14\n"
     ]
    }
   ],
   "source": [
    "string1 = \"How\"\n",
    "string2 = \"are you my friend?\"\n",
    "int1 = 34\n",
    "int2 = 942885\n",
    "float1 = -3.0\n",
    "float2 = 3.141592653589793e-14\n",
    "print(' ***')\n",
    "\n",
    "print(string1)\n",
    "print(string1 + ' ' + string2)\n",
    "\n",
    "print(' 1. {} {}'.format(string1, string2)) \n",
    "\n",
    "print(' 2. {0:s} {1:s}'.format(string1, string2))\n",
    "print(' 3. {0:s} {0:s} {1:s} - {0:s} {1:s}'.format(string1, string2)) \n",
    "\n",
    "print(' 4. {0:10s}{1:5s}'.format(string1, string2))\n",
    "print(' ***')\n",
    "print(int1, int2)\n",
    "print(' 6. {0:d} {1:d}'.format(int1, int2)) \n",
    "print(' 7. {0:8d} {1:10d}'.format(int1, int2)) \n",
    "print(' ***')\n",
    "print(' 8. {0:0.3f}'.format(float1))\n",
    "print(' 9. {0:6.3f}'.format(float1)) \n",
    "print('10. {0:8.3f}'.format(float1)) \n",
    "print(2*' 11. {0:8.3f}'.format(float1))\n",
    "print(' ***')\n",
    "print('12. {0:0.3e}'.format(float2)) \n",
    "print('13. {0:10.3e}'.format(float2)) \n",
    "print('14. {0:10.3f}'.format(float2))\n",
    "print(' ***')\n",
    "print('15. 12345678901234567890')\n",
    "print('16. {0:s}--{1:8d},{2:10.3e}'.format(string2, int1, float2))"
   ]
  },
  {
   "cell_type": "markdown",
   "metadata": {},
   "source": [
    "### %-Formatting"
   ]
  },
  {
   "cell_type": "markdown",
   "metadata": {},
   "source": [
    "A very similar formatting can be achieved with the `%`operator."
   ]
  },
  {
   "cell_type": "code",
   "execution_count": 22,
   "metadata": {
    "tags": []
   },
   "outputs": [
    {
     "name": "stdout",
     "output_type": "stream",
     "text": [
      "Hello, Frank.\n"
     ]
    }
   ],
   "source": [
    "name = \"Frank\"\n",
    "print(\"Hello, %s.\" % name)"
   ]
  },
  {
   "cell_type": "markdown",
   "metadata": {},
   "source": [
    "### f-Strings"
   ]
  },
  {
   "cell_type": "markdown",
   "metadata": {},
   "source": [
    "**Formatted string literals** are the string literals that start with an `f` at the beginning and use curly braces {} to enclose the expressions that will be replaced with other values."
   ]
  },
  {
   "cell_type": "code",
   "execution_count": 23,
   "metadata": {
    "tags": []
   },
   "outputs": [
    {
     "name": "stdout",
     "output_type": "stream",
     "text": [
      "I'm here for the 3. time and this Python Lecture is awesome!\n"
     ]
    }
   ],
   "source": [
    "name = \"Python Lecture\"\n",
    "number = 3\n",
    "fstring = f\"I'm here for the {number}. time and this {name} is awesome!\"\n",
    "print(fstring)"
   ]
  },
  {
   "cell_type": "code",
   "execution_count": 24,
   "metadata": {
    "tags": []
   },
   "outputs": [
    {
     "name": "stdout",
     "output_type": "stream",
     "text": [
      "You just have to sent me    100.000 Euros.\n"
     ]
    }
   ],
   "source": [
    "\n",
    "times = 100\n",
    "fstring = f\"You just have to sent me {times:10.3f} Euros.\"\n",
    "print(fstring)"
   ]
  },
  {
   "cell_type": "markdown",
   "metadata": {
    "slideshow": {
     "slide_type": "subslide"
    },
    "toc-hr-collapsed": false
   },
   "source": [
    "## File input/output"
   ]
  },
  {
   "cell_type": "markdown",
   "metadata": {
    "slideshow": {
     "slide_type": "fragment"
    }
   },
   "source": [
    "File input and output is one of the most important features. We will have a look at reading and writing of text files with numpy and pandas. Python itself also allows you to [open](https://www.programiz.com/python-programming/methods/built-in/open) files and the file object provides the methods [read, write](https://www.programiz.com/python-programming/file-operation) and [close](https://www.programiz.com/python-programming/file-operation)."
   ]
  },
  {
   "cell_type": "code",
   "execution_count": null,
   "metadata": {},
   "outputs": [
    {
     "name": "stdout",
     "output_type": "stream",
     "text": [
      "10\n",
      "12\n",
      "14\n",
      "97\n",
      "9\n",
      "9\n"
     ]
    }
   ],
   "source": [
    "import numpy as np\n",
    "\n",
    "with open('a.txt', 'r') as file_1,open('b.txt','r') as file_2:\n",
    "    for a,b in zip(file_1,file_2):\n",
    "        print(int(a)+int(b))\n",
    "\n",
    "\n",
    "file_1.close()\n",
    "file_2.close()"
   ]
  },
  {
   "cell_type": "markdown",
   "metadata": {
    "slideshow": {
     "slide_type": "subslide"
    },
    "toc-hr-collapsed": false
   },
   "source": [
    "### File I/O with NumPy"
   ]
  },
  {
   "cell_type": "markdown",
   "metadata": {
    "slideshow": {
     "slide_type": "fragment"
    }
   },
   "source": [
    "Most of the time we want import numbers from text files. So direct connection to NumPy seems useful and we will study that first."
   ]
  },
  {
   "cell_type": "code",
   "execution_count": 25,
   "metadata": {
    "slideshow": {
     "slide_type": "fragment"
    },
    "tags": []
   },
   "outputs": [],
   "source": [
    "import numpy as np # don't forget to import numpy"
   ]
  },
  {
   "cell_type": "markdown",
   "metadata": {
    "slideshow": {
     "slide_type": "subslide"
    }
   },
   "source": [
    "#### Reading data from a text file\n",
    "\n",
    "\n",
    "Often you would like to analyze data that you have stored in a text file. Consider, for example, the data file below for an experiment measuring the free fall of a mass.\n",
    "\n",
    "~~~\n",
    "Data for falling mass experiment\n",
    "Date: 16-Aug-2013\n",
    "Data taken by Frank and Ralf\n",
    "data point\ttime (sec) \theight (mm)\tuncertainty (mm)\n",
    "0\t\t0.0\t\t180\t\t3.5\n",
    "1\t\t0.5\t\t182\t\t4.5\n",
    "2\t\t1.0\t\t178\t\t4.0\n",
    "3\t\t1.5\t\t165\t\t5.5\n",
    "4\t\t2.0\t\t160\t\t2.5\n",
    "5\t\t2.5\t\t148\t\t3.0\n",
    "6\t\t3.0\t\t136\t\t2.5\n",
    "~~~\n",
    "\n",
    "Suppose that the name of the text file is **MyData.txt**. Then we can read the data into four different arrays with the following NumPy statement:\n"
   ]
  },
  {
   "cell_type": "code",
   "execution_count": 27,
   "metadata": {
    "ExecuteTime": {
     "end_time": "2019-04-23T11:50:41.722227Z",
     "start_time": "2019-04-23T11:50:41.711971Z"
    },
    "slideshow": {
     "slide_type": "subslide"
    },
    "tags": []
   },
   "outputs": [],
   "source": [
    "dataPt, time, height, error = np.loadtxt(\"MyData.txt\", skiprows=4 , unpack=True)"
   ]
  },
  {
   "cell_type": "markdown",
   "metadata": {
    "slideshow": {
     "slide_type": "fragment"
    }
   },
   "source": [
    "If you don't want to read in all the columns of data, you can specify which columns to read in using the usecols key word. For example, the call"
   ]
  },
  {
   "cell_type": "code",
   "execution_count": 31,
   "metadata": {
    "ExecuteTime": {
     "end_time": "2019-04-23T08:39:30.387115Z",
     "start_time": "2019-04-23T08:39:30.383054Z"
    },
    "slideshow": {
     "slide_type": "fragment"
    },
    "tags": []
   },
   "outputs": [],
   "source": [
    "time, height = np.loadtxt(\"MyData.txt\", skiprows=5 , usecols = (1,2), unpack=True)"
   ]
  },
  {
   "cell_type": "markdown",
   "metadata": {
    "slideshow": {
     "slide_type": "fragment"
    }
   },
   "source": [
    "reads in only columns 1 and 2; columns 0 and 3 are skipped."
   ]
  },
  {
   "cell_type": "markdown",
   "metadata": {
    "ExecuteTime": {
     "end_time": "2017-04-27T12:52:50.862456+02:00",
     "start_time": "2017-04-27T12:52:50.857276"
    },
    "slideshow": {
     "slide_type": "subslide"
    }
   },
   "source": [
    "#### Writing data to a text file"
   ]
  },
  {
   "cell_type": "markdown",
   "metadata": {
    "slideshow": {
     "slide_type": "fragment"
    }
   },
   "source": [
    "There are plenty of ways to write data to a data file in Python. We will stick to one very simple one that’s suitable for writing data files in text format. It uses the NumPy [savetxt](https://docs.scipy.org/doc/numpy-1.14.0/reference/generated/numpy.savetxt.html) routine, which is the counterpart of the loadtxt routine introduced in the previous section. The general form of the routine is\n",
    "\n",
    "~~~\n",
    "savetxt(filename, array, fmt=\"%0.18e\", delimiter=\" \", newline=\"\\n\", header=\"\", footer=\"\", comments=\"# \")\n",
    "~~~\n",
    "\n",
    "We illustrate savetext below with a script that first creates four arrays by reading in the data file MyData.txt, as discussed in the previous section, and then writes that same data set to another file MyDataOut.txt."
   ]
  },
  {
   "cell_type": "code",
   "execution_count": 33,
   "metadata": {
    "ExecuteTime": {
     "end_time": "2019-04-23T11:53:53.444731Z",
     "start_time": "2019-04-23T11:53:53.441012Z"
    },
    "slideshow": {
     "slide_type": "fragment"
    },
    "tags": []
   },
   "outputs": [],
   "source": [
    "dataPt, time, height, error = np.loadtxt(\"MyData.txt\", skiprows=5 , unpack=True)"
   ]
  },
  {
   "cell_type": "code",
   "execution_count": 35,
   "metadata": {
    "tags": []
   },
   "outputs": [
    {
     "data": {
      "text/plain": [
       "[(1.0, 0.5, 182.0, 4.5),\n",
       " (2.0, 1.0, 178.0, 4.0),\n",
       " (3.0, 1.5, 165.0, 5.5),\n",
       " (4.0, 2.0, 160.0, 2.5),\n",
       " (5.0, 2.5, 148.0, 3.0),\n",
       " (6.0, 3.0, 136.0, 2.5)]"
      ]
     },
     "execution_count": 35,
     "metadata": {},
     "output_type": "execute_result"
    }
   ],
   "source": [
    "list(zip(dataPt, time, height, error))"
   ]
  },
  {
   "cell_type": "code",
   "execution_count": 38,
   "metadata": {
    "ExecuteTime": {
     "end_time": "2019-04-23T11:55:27.794528Z",
     "start_time": "2019-04-23T11:55:27.784519Z"
    },
    "slideshow": {
     "slide_type": "fragment"
    },
    "tags": []
   },
   "outputs": [],
   "source": [
    "np.savetxt('MyDataOut.txt',list(zip(dataPt, time, height, error)), fmt=\"%12.3f\")"
   ]
  },
  {
   "cell_type": "code",
   "execution_count": 39,
   "metadata": {
    "ExecuteTime": {
     "end_time": "2019-04-23T11:55:51.888924Z",
     "start_time": "2019-04-23T11:55:44.631995Z"
    },
    "slideshow": {
     "slide_type": "subslide"
    },
    "tags": []
   },
   "outputs": [
    {
     "name": "stdout",
     "output_type": "stream",
     "text": [
      "       1.000        0.500      182.000        4.500\n",
      "       2.000        1.000      178.000        4.000\n",
      "       3.000        1.500      165.000        5.500\n",
      "       4.000        2.000      160.000        2.500\n",
      "       5.000        2.500      148.000        3.000\n",
      "       6.000        3.000      136.000        2.500\n"
     ]
    }
   ],
   "source": [
    "cat MyDataOut.txt"
   ]
  },
  {
   "cell_type": "markdown",
   "metadata": {
    "slideshow": {
     "slide_type": "subslide"
    },
    "toc-hr-collapsed": false
   },
   "source": [
    "### File I/O with Pandas"
   ]
  },
  {
   "cell_type": "markdown",
   "metadata": {
    "slideshow": {
     "slide_type": "fragment"
    }
   },
   "source": [
    "[Pandas](https://pandas.pydata.org/docs/user_guide/index.html) is a software library written for the Python programming language. It is used for data manipulation and analysis. It provides special data structures and operations for the manipulation of numerical tables and time series and builds on top of numpy.\n",
    "\n",
    "- Easy handling of missing data\n",
    "- Intelligent label-based slicing, fancy indexing, and subsetting of large data sets\n",
    "   \n",
    "The data formats provided by the pandas module are used by several other modules, such as the [trackpy](https://soft-matter.github.io/trackpy/v0.3.2/) which is a moduly for feature tracking and analysis in image series."
   ]
  },
  {
   "cell_type": "markdown",
   "metadata": {
    "slideshow": {
     "slide_type": "subslide"
    }
   },
   "source": [
    "#### Short intro to Pandas"
   ]
  },
  {
   "cell_type": "code",
   "execution_count": 42,
   "metadata": {
    "ExecuteTime": {
     "end_time": "2019-04-23T08:39:44.760825Z",
     "start_time": "2019-04-23T08:39:44.223343Z"
    },
    "slideshow": {
     "slide_type": "fragment"
    },
    "tags": []
   },
   "outputs": [],
   "source": [
    "import pandas as pd # import the pandas module"
   ]
  },
  {
   "cell_type": "markdown",
   "metadata": {
    "slideshow": {
     "slide_type": "fragment"
    }
   },
   "source": [
    "Pandas provides two data structures\n",
    "\n",
    "* Series\n",
    "* Data Frames"
   ]
  },
  {
   "cell_type": "markdown",
   "metadata": {
    "slideshow": {
     "slide_type": "subslide"
    }
   },
   "source": [
    "A **[Series](https://pandas.pydata.org/pandas-docs/stable/generated/pandas.Series.html)** is a one-dimensional labeled array capable of holding any data type (integers, strings, floating point numbers,\n",
    "Python objects, etc.). The axis labels are collectively referred to as the index. "
   ]
  },
  {
   "cell_type": "code",
   "execution_count": 48,
   "metadata": {
    "ExecuteTime": {
     "end_time": "2019-04-23T08:39:46.159740Z",
     "start_time": "2019-04-23T08:39:46.145986Z"
    },
    "slideshow": {
     "slide_type": "fragment"
    }
   },
   "outputs": [
    {
     "data": {
      "text/plain": [
       "a    1.160711\n",
       "b   -0.296427\n",
       "c    1.881074\n",
       "d   -1.197978\n",
       "e    0.280311\n",
       "f    1.538339\n",
       "g    1.681957\n",
       "dtype: float64"
      ]
     },
     "execution_count": 48,
     "metadata": {},
     "output_type": "execute_result"
    }
   ],
   "source": [
    "my_simple_series = pd.Series(np.random.randn(7), index=['a', 'b', 'c', 'd', 'e','f','g'])\n",
    "my_simple_series"
   ]
  },
  {
   "cell_type": "code",
   "execution_count": 50,
   "metadata": {
    "slideshow": {
     "slide_type": "fragment"
    }
   },
   "outputs": [
    {
     "data": {
      "text/plain": [
       "-0.2964266043928443"
      ]
     },
     "execution_count": 50,
     "metadata": {},
     "output_type": "execute_result"
    }
   ],
   "source": [
    "my_simple_series"
   ]
  },
  {
   "cell_type": "markdown",
   "metadata": {
    "slideshow": {
     "slide_type": "subslide"
    }
   },
   "source": [
    "There is a whole lot of functionality built into pandas data types. You may of course also obtain the same functionality using numpy commands, but you may find the pandas abbrevations very useful."
   ]
  },
  {
   "cell_type": "code",
   "execution_count": 20,
   "metadata": {
    "ExecuteTime": {
     "end_time": "2019-04-23T08:39:47.769498Z",
     "start_time": "2019-04-23T08:39:47.763594Z"
    },
    "slideshow": {
     "slide_type": "fragment"
    }
   },
   "outputs": [
    {
     "data": {
      "text/plain": [
       "min    -1.523075\n",
       "max     0.525265\n",
       "sum    -2.119315\n",
       "mean   -0.302759\n",
       "dtype: float64"
      ]
     },
     "execution_count": 20,
     "metadata": {},
     "output_type": "execute_result"
    }
   ],
   "source": [
    "my_simple_series.agg(['min','max','sum','mean']) # aggregate a number of properties into a single array"
   ]
  },
  {
   "cell_type": "markdown",
   "metadata": {
    "slideshow": {
     "slide_type": "subslide"
    }
   },
   "source": [
    "A **[DataFrame](https://pandas.pydata.org/pandas-docs/stable/api.html#dataframe)** is a two-dimensional size-mutable, potentially heterogeneous tabular data structure with labeled axes (rows and columns). The example below shows how such a DataFrame can be generated from the scratch. In addition to the data supplied to the DataFrame method, an index column is generated when creating a DataFrame. As in the case of *Series* there is a whole lot of functionality integrated into the DataFrame data type which you may explore on the website."
   ]
  },
  {
   "cell_type": "code",
   "execution_count": 56,
   "metadata": {
    "tags": []
   },
   "outputs": [],
   "source": [
    "df = pd.DataFrame()"
   ]
  },
  {
   "cell_type": "code",
   "execution_count": 57,
   "metadata": {
    "ExecuteTime": {
     "end_time": "2019-04-23T08:39:49.425511Z",
     "start_time": "2019-04-23T08:39:49.397617Z"
    },
    "slideshow": {
     "slide_type": "fragment"
    },
    "tags": []
   },
   "outputs": [
    {
     "data": {
      "text/html": [
       "<div>\n",
       "<style scoped>\n",
       "    .dataframe tbody tr th:only-of-type {\n",
       "        vertical-align: middle;\n",
       "    }\n",
       "\n",
       "    .dataframe tbody tr th {\n",
       "        vertical-align: top;\n",
       "    }\n",
       "\n",
       "    .dataframe thead th {\n",
       "        text-align: right;\n",
       "    }\n",
       "</style>\n",
       "<table border=\"1\" class=\"dataframe\">\n",
       "  <thead>\n",
       "    <tr style=\"text-align: right;\">\n",
       "      <th></th>\n",
       "      <th>column 1</th>\n",
       "      <th>column 2</th>\n",
       "      <th>columns 3</th>\n",
       "      <th>column 4</th>\n",
       "      <th>column 5</th>\n",
       "    </tr>\n",
       "  </thead>\n",
       "  <tbody>\n",
       "    <tr>\n",
       "      <th>0</th>\n",
       "      <td>3</td>\n",
       "      <td>9</td>\n",
       "      <td>3</td>\n",
       "      <td>7</td>\n",
       "      <td>4</td>\n",
       "    </tr>\n",
       "    <tr>\n",
       "      <th>1</th>\n",
       "      <td>2</td>\n",
       "      <td>2</td>\n",
       "      <td>4</td>\n",
       "      <td>6</td>\n",
       "      <td>7</td>\n",
       "    </tr>\n",
       "    <tr>\n",
       "      <th>2</th>\n",
       "      <td>6</td>\n",
       "      <td>1</td>\n",
       "      <td>7</td>\n",
       "      <td>4</td>\n",
       "      <td>5</td>\n",
       "    </tr>\n",
       "    <tr>\n",
       "      <th>3</th>\n",
       "      <td>3</td>\n",
       "      <td>4</td>\n",
       "      <td>4</td>\n",
       "      <td>3</td>\n",
       "      <td>0</td>\n",
       "    </tr>\n",
       "    <tr>\n",
       "      <th>4</th>\n",
       "      <td>5</td>\n",
       "      <td>6</td>\n",
       "      <td>8</td>\n",
       "      <td>0</td>\n",
       "      <td>2</td>\n",
       "    </tr>\n",
       "  </tbody>\n",
       "</table>\n",
       "</div>"
      ],
      "text/plain": [
       "   column 1  column 2  columns 3  column 4  column 5\n",
       "0         3         9          3         7         4\n",
       "1         2         2          4         6         7\n",
       "2         6         1          7         4         5\n",
       "3         3         4          4         3         0\n",
       "4         5         6          8         0         2"
      ]
     },
     "execution_count": 57,
     "metadata": {},
     "output_type": "execute_result"
    }
   ],
   "source": [
    "df = pd.DataFrame(np.random.randint(low=0, high=10, size=(5, 5)),columns=['column 1', 'column 2', 'columns 3', 'column 4', 'column 5'])\n",
    "df.head()"
   ]
  },
  {
   "cell_type": "markdown",
   "metadata": {
    "slideshow": {
     "slide_type": "subslide"
    }
   },
   "source": [
    "Due to the labelling of the columns, each column may be accessed by its column label. Labeling by names  improves readability considerably."
   ]
  },
  {
   "cell_type": "code",
   "execution_count": 58,
   "metadata": {
    "ExecuteTime": {
     "end_time": "2019-04-23T08:39:51.293558Z",
     "start_time": "2019-04-23T08:39:51.289663Z"
    },
    "slideshow": {
     "slide_type": "fragment"
    },
    "tags": []
   },
   "outputs": [
    {
     "data": {
      "text/plain": [
       "0    7\n",
       "1    6\n",
       "2    4\n",
       "3    3\n",
       "4    0\n",
       "Name: column 4, dtype: int64"
      ]
     },
     "execution_count": 58,
     "metadata": {},
     "output_type": "execute_result"
    }
   ],
   "source": [
    "df['column 4']"
   ]
  },
  {
   "cell_type": "markdown",
   "metadata": {
    "slideshow": {
     "slide_type": "subslide"
    }
   },
   "source": [
    "If you don't like this format, you can always return to a simple numpy array with the *as_matrix()* method."
   ]
  },
  {
   "cell_type": "code",
   "execution_count": 59,
   "metadata": {
    "ExecuteTime": {
     "end_time": "2019-04-23T12:15:53.847253Z",
     "start_time": "2019-04-23T12:15:53.843311Z"
    },
    "slideshow": {
     "slide_type": "fragment"
    },
    "tags": []
   },
   "outputs": [
    {
     "data": {
      "text/plain": [
       "array([[3, 9, 3, 7, 4],\n",
       "       [2, 2, 4, 6, 7],\n",
       "       [6, 1, 7, 4, 5],\n",
       "       [3, 4, 4, 3, 0],\n",
       "       [5, 6, 8, 0, 2]])"
      ]
     },
     "execution_count": 59,
     "metadata": {},
     "output_type": "execute_result"
    }
   ],
   "source": [
    "df.values"
   ]
  },
  {
   "cell_type": "markdown",
   "metadata": {
    "slideshow": {
     "slide_type": "subslide"
    }
   },
   "source": [
    "#### Reading CSV data with Pandas"
   ]
  },
  {
   "cell_type": "markdown",
   "metadata": {},
   "source": []
  },
  {
   "cell_type": "markdown",
   "metadata": {
    "slideshow": {
     "slide_type": "fragment"
    }
   },
   "source": [
    "DataFrames may also be populated by text files such as comma separated value files (short *.csv*). These files contain data in text format but also a column label, which can be read by the pandas method *read_csv()*. You can find an example below, which reads the data from the dust sensor on my balcony from April, 11th. You see the different columns, where **P1** and **P2** correspond to the **PM10** and **PM2.5** dust values in $\\mu g/m^3$."
   ]
  },
  {
   "cell_type": "code",
   "execution_count": 68,
   "metadata": {
    "ExecuteTime": {
     "end_time": "2019-04-23T08:40:42.024863Z",
     "start_time": "2019-04-23T08:40:41.993840Z"
    },
    "slideshow": {
     "slide_type": "fragment"
    },
    "tags": []
   },
   "outputs": [
    {
     "data": {
      "text/html": [
       "<div>\n",
       "<style scoped>\n",
       "    .dataframe tbody tr th:only-of-type {\n",
       "        vertical-align: middle;\n",
       "    }\n",
       "\n",
       "    .dataframe tbody tr th {\n",
       "        vertical-align: top;\n",
       "    }\n",
       "\n",
       "    .dataframe thead th {\n",
       "        text-align: right;\n",
       "    }\n",
       "</style>\n",
       "<table border=\"1\" class=\"dataframe\">\n",
       "  <thead>\n",
       "    <tr style=\"text-align: right;\">\n",
       "      <th></th>\n",
       "      <th>sensor_id</th>\n",
       "      <th>sensor_type</th>\n",
       "      <th>location</th>\n",
       "      <th>lat</th>\n",
       "      <th>lon</th>\n",
       "      <th>timestamp</th>\n",
       "      <th>P1</th>\n",
       "      <th>durP1</th>\n",
       "      <th>ratioP1</th>\n",
       "      <th>P2</th>\n",
       "      <th>durP2</th>\n",
       "      <th>ratioP2</th>\n",
       "    </tr>\n",
       "  </thead>\n",
       "  <tbody>\n",
       "    <tr>\n",
       "      <th>0</th>\n",
       "      <td>12253</td>\n",
       "      <td>SDS011</td>\n",
       "      <td>6189</td>\n",
       "      <td>52.527</td>\n",
       "      <td>13.39</td>\n",
       "      <td>2018-04-11T00:01:58</td>\n",
       "      <td>25.87</td>\n",
       "      <td>NaN</td>\n",
       "      <td>NaN</td>\n",
       "      <td>19.37</td>\n",
       "      <td>NaN</td>\n",
       "      <td>NaN</td>\n",
       "    </tr>\n",
       "    <tr>\n",
       "      <th>1</th>\n",
       "      <td>12253</td>\n",
       "      <td>SDS011</td>\n",
       "      <td>6189</td>\n",
       "      <td>52.527</td>\n",
       "      <td>13.39</td>\n",
       "      <td>2018-04-11T00:04:24</td>\n",
       "      <td>25.63</td>\n",
       "      <td>NaN</td>\n",
       "      <td>NaN</td>\n",
       "      <td>20.53</td>\n",
       "      <td>NaN</td>\n",
       "      <td>NaN</td>\n",
       "    </tr>\n",
       "    <tr>\n",
       "      <th>2</th>\n",
       "      <td>12253</td>\n",
       "      <td>SDS011</td>\n",
       "      <td>6189</td>\n",
       "      <td>52.527</td>\n",
       "      <td>13.39</td>\n",
       "      <td>2018-04-11T00:06:55</td>\n",
       "      <td>26.30</td>\n",
       "      <td>NaN</td>\n",
       "      <td>NaN</td>\n",
       "      <td>22.00</td>\n",
       "      <td>NaN</td>\n",
       "      <td>NaN</td>\n",
       "    </tr>\n",
       "    <tr>\n",
       "      <th>3</th>\n",
       "      <td>12253</td>\n",
       "      <td>SDS011</td>\n",
       "      <td>6189</td>\n",
       "      <td>52.527</td>\n",
       "      <td>13.39</td>\n",
       "      <td>2018-04-11T00:09:23</td>\n",
       "      <td>24.60</td>\n",
       "      <td>NaN</td>\n",
       "      <td>NaN</td>\n",
       "      <td>20.30</td>\n",
       "      <td>NaN</td>\n",
       "      <td>NaN</td>\n",
       "    </tr>\n",
       "    <tr>\n",
       "      <th>4</th>\n",
       "      <td>12253</td>\n",
       "      <td>SDS011</td>\n",
       "      <td>6189</td>\n",
       "      <td>52.527</td>\n",
       "      <td>13.39</td>\n",
       "      <td>2018-04-11T00:11:51</td>\n",
       "      <td>25.17</td>\n",
       "      <td>NaN</td>\n",
       "      <td>NaN</td>\n",
       "      <td>20.23</td>\n",
       "      <td>NaN</td>\n",
       "      <td>NaN</td>\n",
       "    </tr>\n",
       "  </tbody>\n",
       "</table>\n",
       "</div>"
      ],
      "text/plain": [
       "   sensor_id sensor_type  location     lat    lon            timestamp     P1  \\\n",
       "0      12253      SDS011      6189  52.527  13.39  2018-04-11T00:01:58  25.87   \n",
       "1      12253      SDS011      6189  52.527  13.39  2018-04-11T00:04:24  25.63   \n",
       "2      12253      SDS011      6189  52.527  13.39  2018-04-11T00:06:55  26.30   \n",
       "3      12253      SDS011      6189  52.527  13.39  2018-04-11T00:09:23  24.60   \n",
       "4      12253      SDS011      6189  52.527  13.39  2018-04-11T00:11:51  25.17   \n",
       "\n",
       "   durP1  ratioP1     P2  durP2  ratioP2  \n",
       "0    NaN      NaN  19.37    NaN      NaN  \n",
       "1    NaN      NaN  20.53    NaN      NaN  \n",
       "2    NaN      NaN  22.00    NaN      NaN  \n",
       "3    NaN      NaN  20.30    NaN      NaN  \n",
       "4    NaN      NaN  20.23    NaN      NaN  "
      ]
     },
     "execution_count": 68,
     "metadata": {},
     "output_type": "execute_result"
    }
   ],
   "source": [
    "data = pd.DataFrame()\n",
    "data = pd.read_csv(\"2018-04-11_sds011_sensor_12253.csv\",delimiter=\";\",parse_dates=False)\n",
    "data.head()"
   ]
  },
  {
   "cell_type": "code",
   "execution_count": 63,
   "metadata": {
    "ExecuteTime": {
     "end_time": "2019-04-23T08:40:50.661816Z",
     "start_time": "2019-04-23T08:40:50.355019Z"
    },
    "slideshow": {
     "slide_type": "subslide"
    },
    "tags": []
   },
   "outputs": [
    {
     "data": {
      "text/plain": [
       "<Axes: >"
      ]
     },
     "execution_count": 63,
     "metadata": {},
     "output_type": "execute_result"
    },
    {
     "data": {
      "image/png": "[encoded data removed]",
      "text/plain": [
       "<Figure size 432x288 with 1 Axes>"
      ]
     },
     "metadata": {
      "needs_background": "light"
     },
     "output_type": "display_data"
    }
   ],
   "source": [
    "(data['P1']/data['P2']).plot()"
   ]
  }
 ],
 "metadata": {
  "celltoolbar": "Slideshow",
  "kernelspec": {
   "display_name": "quarto_env",
   "language": "python",
   "name": "python3"
  },
  "language_info": {
   "codemirror_mode": {
    "name": "ipython",
    "version": 3
   },
   "file_extension": ".py",
   "mimetype": "text/x-python",
   "name": "python",
   "nbconvert_exporter": "python",
   "pygments_lexer": "ipython3",
   "version": "3.12.7"
  },
  "widgets": {
   "application/vnd.jupyter.widget-state+json": {
    "state": {},
    "version_major": 2,
    "version_minor": 0
   }
  }
 },
 "nbformat": 4,
 "nbformat_minor": 4
}
