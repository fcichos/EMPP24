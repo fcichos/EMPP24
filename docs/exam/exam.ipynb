{
  "cells": [
    {
      "cell_type": "markdown",
      "metadata": {},
      "source": [
        "# Exam"
      ],
      "id": "6ec24cf1-6db0-4067-8ae9-a87b1ccbae1a"
    }
  ],
  "nbformat": 4,
  "nbformat_minor": 5,
  "metadata": {
    "kernelspec": {
      "display_name": "Python 3",
      "language": "python",
      "name": "python3"
    }
  }
}