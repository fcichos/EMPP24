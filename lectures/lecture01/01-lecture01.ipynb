{
  "cells": [
    {
      "cell_type": "raw",
      "metadata": {},
      "source": [
        "---\n",
        "format:\n",
        "  ipynb: default\n",
        "notebook-url: \"https://github.com/yourusername/yourrepository/blob/main/notebooks/my-document.ipynb\"\n",
        "---"
      ]
    },
    {
      "cell_type": "markdown",
      "metadata": {},
      "source": [
        "# Introduction to Python and Basic Calculations\n",
        "# What is Jupyter Notebook?\n",
        "\n",
        "A Jupyter Notebook is a web browser based **interactive computing environment** that enables users to create documents that include code to be executed, results from the executed code such as plots and images,and finally also an additional documentation in form of markdown text including equations in LaTeX.\n",
        "\n",
        "These documents provide a **complete and self-contained record of a computation** that can be converted to various formats and shared with others using email,  version control systems (like git/[GitHub](https://github.com)) or [nbviewer.jupyter.org](http://nbviewer.jupyter.org).\n",
        "\n",
        "## Key Components of a Notebook\n",
        "\n",
        "The Jupyter Notebook ecosystem consists of three main components:\n",
        "\n",
        "1. Notebook Editor\n",
        "2. Kernels\n",
        "3. Notebook Documents\n",
        "\n",
        "Let's explore each of these components in detail:\n",
        "\n",
        "### Notebook Editor\n",
        "\n",
        "The Notebook editor is an interactive web-based application for creating and editing notebook documents. It allows users to write and run code interactively, as well as add rich text and multimedia content. When running Jupyter on a server, you'll typically use either the classic Jupyter Notebook interface or JupyterLab, which is a more advanced and feature-rich version of the notebook editor.\n",
        "\n",
        "Key features of the Notebook editor include:\n",
        "\n",
        "* **Code Editing:** Write and edit code in individual cells.\n",
        "* **Code Execution:** Run code cells in any order and display computation results in various formats (HTML, LaTeX, PNG, SVG, PDF).\n",
        "* **Interactive Widgets:** Create and use JavaScript widgets that connect user interface controls to kernel-side computations.\n",
        "* **Rich Text:** Add documentation using [Markdown](https://daringfireball.net/projects/markdown/) markup language, including LaTeX equations.\n",
        "\n",
        "::: {.callout-note title=\"Advance Notebook Editor Info\" collapse=true}\n",
        "The Notebook editor in Jupyter offers several advanced features:\n",
        "\n",
        "* **Cell Metadata:** Each cell has associated metadata that can be used to control its behavior. This includes tags for slideshows, hiding code cells, and controlling cell execution.\n",
        "\n",
        "* **Magic Commands:** Special commands prefixed with `%` (line magics) or `%%` (cell magics) that provide additional functionality, such as timing code execution or displaying plots inline.\n",
        "\n",
        "* **Auto-completion:** The editor provides context-aware auto-completion for Python code, helping users write code more efficiently.\n",
        "\n",
        "* **Code Folding:** Users can collapse long code blocks for better readability.\n",
        "\n",
        "* **Multiple Cursors:** Advanced editing with multiple cursors for simultaneous editing at different locations.\n",
        "\n",
        "* **Split View:** The ability to split the notebook view, allowing users to work on different parts of the notebook simultaneously.\n",
        "\n",
        "* **Variable Inspector:** A tool to inspect and manage variables in the kernel's memory.\n",
        "\n",
        "* **Integrated Debugger:** Some Jupyter environments offer an integrated debugger for step-by-step code execution and inspection.\n",
        ":::\n",
        "\n",
        "### Kernels\n",
        "\n",
        "Kernels are the computational engines that execute the code contained in a notebook. They are separate processes that run independently of the notebook editor.\n",
        "\n",
        "Key responsibilities of kernels include:\n",
        "* Executing user code\n",
        "* Returning computation results to the notebook editor\n",
        "* Handling computations for interactive widgets\n",
        "* Providing features like tab completion and introspection\n",
        "\n",
        "::: {.callout-note title=\"Advanced Kernel Info\" collapse=true}\n",
        "Jupyter notebooks are language-agnostic. Different kernels can be installed to support various programming languages such as Python, R, Julia, and many others. The default kernel runs Python code, but users can select different kernels for each notebook via the Kernel menu.\n",
        "\n",
        "Kernels communicate with the notebook editor using a JSON-based protocol over ZeroMQ/WebSockets. For more technical details, see the [messaging specification](https://jupyter-client.readthedocs.io/en/latest/messaging.html#messaging).\n",
        "\n",
        "Each kernel runs in its own environment, which can be customized to include specific libraries and dependencies. This allows users to create isolated environments for different projects, ensuring that dependencies do not conflict.\n",
        "\n",
        "Kernels also support interactive features such as:\n",
        "\n",
        "* **Tab Completion:** Provides suggestions for variable names, functions, and methods as you type, improving coding efficiency.\n",
        "* **Introspection:** Allows users to inspect objects, view documentation, and understand the structure of code elements.\n",
        "* **Rich Output:** Supports various output formats, including text, images, videos, and interactive widgets, enhancing the interactivity of notebooks.\n",
        "\n",
        "Advanced users can create custom kernels to support additional languages or specialized computing environments. This involves writing a kernel specification and implementing the necessary communication protocols.\n",
        "\n",
        "For managing kernels, Jupyter provides several commands and options:\n",
        "\n",
        "* **Starting a Kernel:** Automatically starts when a notebook is opened.\n",
        "* **Interrupting a Kernel:** Stops the execution of the current code cell, useful for halting long-running computations.\n",
        "* **Restarting a Kernel:** Clears the kernel's memory and restarts it, useful for resetting the environment or recovering from errors.\n",
        "* **Shutting Down a Kernel:** Stops the kernel and frees up system resources.\n",
        "\n",
        "Users can also monitor kernel activity and resource usage through the Jupyter interface, ensuring efficient and effective use of computational resources.\n",
        ":::\n",
        "\n",
        "\n",
        "### Notebook Documents\n",
        "\n",
        "\n",
        "Notebook documents are self-contained files that encapsulate all content created in the notebook editor. They include code inputs/outputs, Markdown text, equations, images, and other media. Each document is associated with a specific kernel and serves as both a human-readable record of analysis and an executable script to reproduce the work.\n",
        "\n",
        "Characteristics of notebook documents:\n",
        "\n",
        "* File Extension: Notebooks are stored as files with a `.ipynb` extension.\n",
        "* Structure: Notebooks consist of a linear sequence of cells, which can be one of three types:\n",
        "  - **Code cells:** Contain executable code and its output.\n",
        "  - **Markdown cells:** Contain formatted text, including LaTeX equations.\n",
        "  - **Raw cells:** Contain unformatted text, preserved when converting notebooks to other formats.\n",
        "\n",
        "\n",
        "::: {.callout-note title=\"Advanced Notebook Documents Info\" collapse=true}\n",
        "* Version Control: Notebook documents can be version controlled using systems like Git. This allows users to track changes, collaborate with others, and revert to previous versions if needed. Tools like `nbdime` provide diff and merge capabilities specifically designed for Jupyter Notebooks.\n",
        "\n",
        "* Cell Tags: Cells in a notebook can be tagged with metadata to control their behavior during execution, export, or presentation. For example, tags can be used to hide input or output, skip execution, or designate cells as slides in a presentation.\n",
        "\n",
        "* Interactive Widgets: Notebook documents can include interactive widgets that allow users to manipulate parameters and visualize changes in real-time. This is particularly useful for data exploration and interactive simulations.\n",
        "\n",
        "* Extensions: The Jupyter ecosystem supports a wide range of extensions that enhance the functionality of notebook documents. These extensions can add features like spell checking, code formatting, and integration with external tools and services.\n",
        "\n",
        "* Security: Notebook documents can include code that executes on the user's machine, which poses security risks. Jupyter provides mechanisms to sanitize notebooks and prevent the execution of untrusted code. Users should be cautious when opening notebooks from unknown sources.\n",
        "\n",
        "* Collaboration: Jupyter Notebooks can be shared and collaboratively edited in real-time using platforms like Google Colab, Microsoft Azure Notebooks, and JupyterHub. These platforms provide cloud-based environments where multiple users can work on the same notebook simultaneously.\n",
        "\n",
        "* Customization: Users can customize the appearance and behavior of notebook documents using CSS and JavaScript. This allows for the creation of tailored interfaces and enhanced user experiences.\n",
        "\n",
        "* Export Options: In addition to static formats, notebooks can be exported to interactive formats like dashboards and web applications. Tools like `Voila` convert notebooks into standalone web applications that can be shared and deployed.\n",
        "\n",
        "* Provenance: Notebooks can include provenance information that tracks the origin and history of data and computations. This is important for reproducibility and transparency in scientific research.\n",
        "\n",
        "* Documentation: Notebook documents can serve as comprehensive documentation for projects, combining code, results, and narrative text. This makes them valuable for teaching, tutorials, and sharing research findings.\n",
        "\n",
        "* Performance: Large notebooks with many cells and outputs can become slow and unwieldy. Techniques like cell output clearing, using lightweight data formats, and splitting notebooks into smaller parts can help maintain performance.\n",
        "\n",
        "* Integration: Jupyter Notebooks can integrate with a wide range of data sources, libraries, and tools. This includes databases, cloud storage, machine learning frameworks, and visualization libraries, making them a versatile tool for data science and research.\n",
        "\n",
        "* Internal Format: Notebook files are [JSON](https://en.wikipedia.org/wiki/JSON) text files with binary data encoded in [base64](http://en.wikipedia.org/wiki/Base64), making them easy to manipulate programmatically.\n",
        "\n",
        "* Exportability: Notebooks can be exported to various static formats (HTML, reStructuredText, LaTeX, PDF, slide shows) using Jupyter's `nbconvert` utility.\n",
        "\n",
        "* Sharing: Notebooks can be shared via [nbviewer](http://nbviewer.jupyter.org), which renders notebooks from public URLs or GitHub as static web pages, allowing others to view the content without installing Jupyter.\n",
        "\n",
        ":::\n",
        "\n",
        "This integrated system of editor, kernels, and documents makes Jupyter Notebooks a powerful tool for interactive computing, data analysis, and sharing of computational narratives.\n",
        "\n",
        "\n",
        "## Using the Notebook Editor\n",
        "\n",
        "![Jupyter Notebook Editor](img/notebook.png){fig-align=\"center\"}\n",
        "\n",
        "The Jupyter Notebook editor provides an interactive environment for writing code, creating visualizations, and documenting computational workflows. It consists of a web-based interface that allows users to create and edit notebook documents containing code, text, equations, images, and interactive elements.\n",
        "A Jupyter Notebook provides an interface with essentially two modes of operation:\n",
        "\n",
        "* **edit mode** the mode where you edit a cells content.\n",
        "* **command mode** the mode where you execute the cells content.\n",
        "\n",
        "In the more advanced version of JupyterLab you can also have a **presentation mode** where you can present your notebook as a slideshow.\n",
        "\n",
        "### Edit mode\n",
        "\n",
        "Edit mode is indicated by a blue cell border and a prompt showing in the editor area when a cell is selected. You can enter edit mode by pressing `Enter` or using the mouse to click on a cell's editor area.\n",
        "\n",
        "![Edit Mode](img/edit_mode.png){fig-align=\"center\"}\n",
        "\n",
        "When a cell is in edit mode, you can type into the cell, like a normal text editor\n",
        "\n",
        "### Command mode\n",
        "\n",
        "Command mode is indicated by a grey cell border with a blue left margin. When you are in command mode, you are able to edit the notebook as a whole, but not type into individual cells. Most importantly, in command mode, the keyboard is mapped to a set of shortcuts that let you perform notebook and cell actions efficiently.\n",
        "\n",
        "\n",
        "![Command Mode](img/command_mode.png){fig-align=\"center\"}\n",
        "\n",
        "If you have a hardware keyboard connected to your iOS device, you can use Jupyter keyboard shortcuts. The modal user interface of the Jupyter Notebook has been optimized for efficient keyboard usage. This is made possible by having two different sets of keyboard shortcuts: one set that is active in edit mode and another in command mode.\n",
        "\n",
        "### Keyboard navigation\n",
        "\n",
        "In edit mode, most of the keyboard is dedicated to typing into the cell's editor area. Thus, in edit mode there are relatively few shortcuts available.\n",
        "In command mode, the entire keyboard is available for shortcuts, so there are many more. Most important ones are:\n",
        "\n",
        "1. Switch command and edit mods: `Enter` for edit mode, and `Esc` or `Control` for command mode.\n",
        "2. Basic navigation: `↑`/`k`, `↓`/`j`\n",
        "3. Run or render currently selected cell: `Shift`+`Enter` or `Control`+`Enter`\n",
        "4. Saving the notebook: `s`\n",
        "5. Change Cell types: `y` to make it a **code** cell, `m` for **markdown** and `r` for **raw**\n",
        "6. Inserting new cells: `a` to **insert above**, `b` to **insert below**\n",
        "7. Manipulating cells using pasteboard: `x` for **cut**, `c` for **copy**, `v` for **paste**, `d` for **delete** and `z` for **undo delete**\n",
        "8. Kernel operations: `i` to **interrupt** and `0` to **restart**\n",
        "\n",
        "### Running code in your notebook\n",
        "\n",
        "Code cells allow you to enter and run code. Run a code cell by pressing the `▶︎` button in the bottom-right panel, or `Control`+`Enter` on your hardware keyboard."
      ]
    },
    {
      "cell_type": "code",
      "metadata": {
        "slideshow": {
          "slide_type": "fragment"
        }
      },
      "source": [
        "v = 23752636\n",
        "print(v)"
      ],
      "execution_count": null,
      "outputs": []
    },
    {
      "cell_type": "markdown",
      "metadata": {},
      "source": [
        "There are a couple of keyboard shortcuts for running code:\n",
        "\n",
        "* `Control`+`Enter` run the current cell and enters command mode.\n",
        "* `Shift`+`Enter` runs the current cell and moves selection to the one below.\n",
        "* `Option`+`Enter` runs the current cell and inserts a new one below.\n",
        "\n",
        "## Managing the kernel\n",
        "\n",
        "Code is run in a separate process called the **kernel**, which can be interrupted or restarted. You can see kernel indicator in the top-right corner reporting current kernel state: `⚪︎` means kernel is **ready** to execute code, and `⚫︎` means kernel is currently **busy**. Tapping kernel indicator will open **kernel menu**, where you can reconnect, interrupt or restart kernel.\n",
        "\n",
        "Try running the following cell — kernel indicator will switch from `⚪︎` to `⚫︎`, i.e. reporting kernel as \"busy\". This means that you won't be able to run any new cells until current execution finishes, or until kernel is interrupted. You can then go to kernel menu by tapping the kernel indicator and select \"Interrupt\".\n",
        "\n",
        "Entering code is pretty easy. You just have to click into a cell and type the commands you want to type.\n",
        "If you have multiple lines of code, just press **enter** at the end of the line and start a new one.\n",
        "\n",
        "- **code blocks**\n",
        "Python identifies blocks of codes belonging together by its identation. This will become important if you write longer code in a cell later. To indent the block, you may use either *whitespaces* or *tabs*.\n",
        "\n",
        "- **comments** Comments can be added to annotate the code, such that you or someone else can understand the code.\n",
        "    - Comments in a single line are started with the `#` character at in front of the comment.\n",
        "    - Comments over multiple lines can be started with `'''`and end with the same `'''`. They are used as `docstrings` to provide a help text."
      ]
    },
    {
      "cell_type": "code",
      "metadata": {
        "slideshow": {
          "slide_type": "subslide"
        }
      },
      "source": [
        "# typical function\n",
        "\n",
        "def function(x):\n",
        "    ''' function to calculate a function\n",
        "    arguments:\n",
        "        x ... float or integer value\n",
        "    returns:\n",
        "        y ... two times the integer value\n",
        "    '''\n",
        "    y=2*x # don't forget the identation of the block\n",
        "    return(y)\n",
        "\n",
        "help(function)"
      ],
      "execution_count": null,
      "outputs": []
    },
    {
      "cell_type": "markdown",
      "metadata": {},
      "source": [
        "## Markdown in Notebooks\n",
        "\n",
        "Text can be added to Jupyter Notebooks using Markdown cells. This is extremely useful providing a complete documentation of your calculations or simulations. In this way, everything really becomes an notebook.\n",
        "You can change the cell type to Markdown by using the \"Cell Actions\" menu, or with a hardware keyboard shortcut `m`.  Markdown is a popular markup language that is a superset of HTML. Its specification can be found here:\n",
        "\n",
        "<https://daringfireball.net/projects/markdown/>\n",
        "\n",
        "Markdown cells can either be **rendered** or **unrendered**.\n",
        "\n",
        "When they are rendered, you will see a nice formatted representation of the cell's contents.\n",
        "\n",
        "When they are unrendered, you will see the raw text source of the cell. To render the selected cell, click the `▶︎` button or `shift`+ `enter`. To unrender, select the  markdown cell, and press ` enter` or just double click.\n",
        "\n",
        "### Markdown basics\n",
        "\n",
        "Below are some basic markdown examples, in its rendered form. If you which to access how to create specific appearances, double click the individual cells to put the into an unrendered edit mode.\n",
        "\n",
        "You can make text *italic* or **bold**. You can build nested itemized or enumerated lists:\n",
        "\n",
        "* First item\n",
        "    - First subitem\n",
        "        - First sub-subitem\n",
        "    - Second subitem\n",
        "        - First subitem of second subitem\n",
        "        - Second subitem of second subitem\n",
        "* Second item\n",
        "    - First subitem\n",
        "* Third item\n",
        "    - First subitem\n",
        "\n",
        "Now another list:\n",
        "\n",
        "1. Here we go\n",
        "    1. Sublist\n",
        "        2. Sublist\n",
        "2. There we go\n",
        "3. Now this\n",
        "\n",
        "Here is a blockquote:\n",
        "\n",
        "> Beautiful is better than ugly.\n",
        "> Explicit is better than implicit.\n",
        "> Simple is better than complex.\n",
        "> Complex is better than complicated.\n",
        "> Flat is better than nested.\n",
        "> Sparse is better than dense.\n",
        "> Readability counts.\n",
        "> Special cases aren't special enough to break the rules.\n",
        "> Namespaces are one honking great idea -- let's do more of those!\n",
        "\n",
        "And Web links:\n",
        "\n",
        "[Jupyter's website](http://jupyter.org)\n",
        "\n",
        "### Headings\n",
        "\n",
        "You can add headings by starting a line with one (or multiple) `#` followed by a space and the title of your section. The number of `#` you use will determine the size of the heading\n",
        "\n",
        "~~~\n",
        "# Heading 1\n",
        "# Heading 2\n",
        "## Heading 2.1\n",
        "## Heading 2.2\n",
        "### Heading 2.2.1\n",
        "~~~\n",
        "\n",
        "### Embedded code\n",
        "\n",
        "You can embed code meant for illustration instead of execution in Python:\n",
        "\n",
        "    def f(x):\n",
        "        \"\"\"a docstring\"\"\"\n",
        "        return x**2\n",
        "\n",
        "\n",
        "### LaTeX equations\n",
        "\n",
        "Courtesy of MathJax, you can include mathematical expressions both inline:\n",
        "$e^{i\\pi} + 1 = 0$  and displayed:\n",
        "\n",
        "$$e^x=\\sum_{i=0}^\\infty \\frac{1}{i!}x^i$$\n",
        "\n",
        "Inline expressions can be added by surrounding the latex code with `$`:\n",
        "\n",
        "```\n",
        "$e^{i\\pi} + 1 = 0$\n",
        "```\n",
        "\n",
        "Expressions on their own line are surrounded by `$$`:\n",
        "\n",
        "```latex\n",
        "$$e^x=\\sum_{i=0}^\\infty \\frac{1}{i!}x^i$$\n",
        "```\n",
        "\n",
        "### Images\n",
        "\n",
        "Images may be also directly integrated into a Markdown block.\n",
        "\n",
        "To include images use\n",
        "\n",
        "~~~\n",
        "![alternative text](url)\n",
        "~~~\n",
        "\n",
        "for example\n",
        "\n",
        "![alternative text](img/particle.png)\n",
        "\n",
        "### Videos\n",
        "\n",
        "To include videos, we use HTML code like\n",
        "\n",
        "~~~\n",
        "<video src=\"mov/movie.mp4\" width=\"320\" height=\"200\" controls preload></video>\n",
        "~~~\n",
        "\n",
        "in the Markdown cell. This works with videos stored locally.\n",
        "\n",
        "<video src=\"mov/movie.mp4\" width=\"320\" height=\"200\" controls></video>\n",
        "\n",
        "You can embed YouTube Videos as well by using the `IPython` module."
      ]
    },
    {
      "cell_type": "code",
      "metadata": {},
      "source": [
        "from IPython.display import YouTubeVideo\n",
        "YouTubeVideo('QlLx32juGzI',width=600)"
      ],
      "execution_count": null,
      "outputs": []
    },
    {
      "cell_type": "markdown",
      "metadata": {},
      "source": [
        "## Variables in Python\n",
        "\n",
        "### Symbol Names\n",
        "\n",
        "Variable names in Python can include alphanumerical characters `a-z`, `A-Z`, `0-9`, and the special character `_`. Normal variable names must start with a letter or an underscore. By convention, variable names typically start with a lower-case letter, while Class names start with a capital letter and internal variables start with an underscore.\n",
        "\n",
        "::: {.callout-warning title=\"Reserved Keywords\"}\n",
        "\n",
        "There are a number of Python keywords that cannot be used as variable names because Python uses them for other things. These keywords are:\n",
        "\n",
        "`and`, `as`, `assert`, `break`, `class`, `continue`, `def`, `del`, `elif`, `else`, `except`, `exec`, `finally`, `for`, `from`, `global`, `if`, `import`, `in`, `is`, `lambda`, `not`, `or`, `pass`, `print`, `raise`, `return`, `try`, `while`, `with`, `yield`\n",
        "\n",
        "Be aware of the keyword `lambda`, which could easily be a natural variable name in a scientific program. However, as a reserved keyword, it cannot be used as a variable name.\n",
        ":::\n",
        "\n",
        "### Variable Assignment\n",
        "\n",
        "The assignment operator in Python is `=`. Python is a dynamically typed language, so we do not need to specify the type of a variable when we create one.\n",
        "\n",
        "Assigning a value to a new variable creates the variable:"
      ]
    },
    {
      "cell_type": "code",
      "metadata": {},
      "source": [
        "# variable assignments\n",
        "x = 1.0\n",
        "my_favorite_variable = 12.2\n",
        "x"
      ],
      "execution_count": null,
      "outputs": []
    },
    {
      "cell_type": "markdown",
      "metadata": {},
      "source": [
        "Although not explicitly specified, a variable does have a type associated with it (e.g., integer, float, string).\n",
        "The type is derived from the value that was assigned to it. To determine the type of a variable, we can use the `type` function."
      ]
    },
    {
      "cell_type": "code",
      "metadata": {},
      "source": [
        "type(x)"
      ],
      "execution_count": null,
      "outputs": []
    },
    {
      "cell_type": "markdown",
      "metadata": {},
      "source": [
        "If we assign a new value to a variable, its type can change."
      ]
    },
    {
      "cell_type": "code",
      "metadata": {},
      "source": [
        "x = 1"
      ],
      "execution_count": null,
      "outputs": []
    },
    {
      "cell_type": "code",
      "metadata": {},
      "source": [
        "type(x)"
      ],
      "execution_count": null,
      "outputs": []
    },
    {
      "cell_type": "markdown",
      "metadata": {},
      "source": [
        "If we try to use a variable that has not yet been defined, we get a `NameError` error.\n"
      ]
    },
    {
      "cell_type": "code",
      "metadata": {},
      "source": [
        "#print(g)"
      ],
      "execution_count": null,
      "outputs": []
    },
    {
      "cell_type": "markdown",
      "metadata": {},
      "source": [
        "## Number Types\n",
        "\n",
        "Python supports various number types, including integers, floating-point numbers, and complex numbers. These are some of the basic building blocks of doing arithmetic in any programming language. We will discuss each of these types in more detail.\n",
        "\n",
        "### Comparison of Number Types\n",
        "\n",
        "| Type    | Example       | Description                          | Limits                                                      | Use Cases                           |\n",
        "|---------|---------------|--------------------------------------|-------------------------------------------------------------|-------------------------------------|\n",
        "| int     | 42            | Whole numbers                        | Unlimited precision (bounded by available memory)           | Counting, indexing                  |\n",
        "| float   | 3.14159       | Decimal numbers                      | Typically ±1.8e308 with 15-17 digits of precision (64-bit)  | Scientific calculations, prices     |\n",
        "| complex | 2 + 3j        | Numbers with real and imaginary parts| Same as float for both real and imaginary parts             | Signal processing, electrical engineering |\n",
        "| bool    | True / False  | Logical values                       | Only two values: True (1) and False (0)                     | Conditional operations, flags       |\n",
        "\n",
        "\n",
        "::: {.callout-note title=\"Examples for Number Types\" collapse=true}\n",
        "\n",
        "### Integers\n",
        "\n",
        "**Integer Representation:**  Integers are whole numbers without a decimal point.\n"
      ]
    },
    {
      "cell_type": "code",
      "metadata": {},
      "source": [
        "x = 1\n",
        "type(x)"
      ],
      "execution_count": null,
      "outputs": []
    },
    {
      "cell_type": "markdown",
      "metadata": {},
      "source": [
        "**Binary, Octal, and Hexadecimal:** Integers can be represented in different bases:"
      ]
    },
    {
      "cell_type": "code",
      "metadata": {},
      "source": [
        "0b1010111110  # Binary\n",
        "0x0F          # Hexadecimal"
      ],
      "execution_count": null,
      "outputs": []
    },
    {
      "cell_type": "markdown",
      "metadata": {},
      "source": [
        "### Floating Point Numbers\n",
        "\n",
        "**Floating Point Representation:** Numbers with a decimal point are treated as floating-point values."
      ]
    },
    {
      "cell_type": "code",
      "metadata": {},
      "source": [
        "x = 3.141\n",
        "type(x)"
      ],
      "execution_count": null,
      "outputs": []
    },
    {
      "cell_type": "markdown",
      "metadata": {},
      "source": [
        "**Maximum Float Value:** Python handles large floats, converting them to infinity if they exceed the maximum representable value."
      ]
    },
    {
      "cell_type": "code",
      "metadata": {},
      "source": [
        "1.7976931348623157e+308 * 2  # Output: inf"
      ],
      "execution_count": null,
      "outputs": []
    },
    {
      "cell_type": "markdown",
      "metadata": {},
      "source": [
        "### Complex Numbers\n",
        "\n",
        "**Complex Number Representation:** Complex numbers have a real and an imaginary part."
      ]
    },
    {
      "cell_type": "code",
      "metadata": {},
      "source": [
        "c = 2 + 4j\n",
        "type(c)"
      ],
      "execution_count": null,
      "outputs": []
    },
    {
      "cell_type": "markdown",
      "metadata": {},
      "source": [
        "- **Accessors for Complex Numbers:**\n",
        "  - `c.real`: Real part of the complex number.\n",
        "  - `c.imag`: Imaginary part of the complex number."
      ]
    },
    {
      "cell_type": "code",
      "metadata": {},
      "source": [
        "print(c.real)\n",
        "print(c.imag)"
      ],
      "execution_count": null,
      "outputs": []
    },
    {
      "cell_type": "markdown",
      "metadata": {},
      "source": [
        "**Complex Conjugate:** Use the `.conjugate()` method to get the complex conjugate."
      ]
    },
    {
      "cell_type": "code",
      "metadata": {},
      "source": [
        "c = c.conjugate()\n",
        "print(c)"
      ],
      "execution_count": null,
      "outputs": []
    },
    {
      "cell_type": "markdown",
      "metadata": {},
      "source": [
        ":::\n",
        "\n",
        "\n",
        "## Type Conversion\n",
        "\n",
        "### Implicit Type Conversion\n",
        "\n",
        "Python automatically converts types during operations involving mixed types. The result is a type that can accommodate all the values involved in the operation. This is known as implicit type conversion. For example, adding an integer and a float results in a float."
      ]
    },
    {
      "cell_type": "code",
      "metadata": {},
      "source": [
        "integer_number = 123\n",
        "float_number = 1.23\n",
        "new_number = integer_number + float_number\n",
        "type(new_number)"
      ],
      "execution_count": null,
      "outputs": []
    },
    {
      "cell_type": "markdown",
      "metadata": {},
      "source": [
        "### Explicit Type Conversion\n",
        "\n",
        "Use functions like `int()`, `float()`, and `str()` to explicitly convert types from one to another. Explicit type conversion is also known as type casting. For example, converting a string to an integer."
      ]
    },
    {
      "cell_type": "code",
      "metadata": {},
      "source": [
        "num_string = \"12\"\n",
        "num_string = int(num_string)\n",
        "type(num_string)"
      ],
      "execution_count": null,
      "outputs": []
    },
    {
      "cell_type": "markdown",
      "metadata": {},
      "source": [
        "Converting a float to an integer truncates the decimal part.\n"
      ]
    },
    {
      "cell_type": "code",
      "metadata": {},
      "source": [
        "x = 5 / 2\n",
        "x = int(x)\n",
        "z = complex(x)"
      ],
      "execution_count": null,
      "outputs": []
    },
    {
      "cell_type": "markdown",
      "metadata": {},
      "source": [
        "::: {.callout-tip title=\"Handling Complex Numbers\"}\n",
        "Complex numbers cannot be directly converted to floats or integers; extract the real or imaginary part first."
      ]
    },
    {
      "cell_type": "code",
      "metadata": {},
      "source": [
        "y = bool(z.real)\n",
        "print(z.real, \" -> \", y, type(y))"
      ],
      "execution_count": null,
      "outputs": []
    },
    {
      "cell_type": "markdown",
      "metadata": {},
      "source": [
        ":::\n",
        "\n",
        "## Application\n",
        "\n",
        "The following code snippets demonstrate the use of variables and basic arithmetic operations in Python. The code snippets include examples of variable assignments, type conversion, and arithmetic operations.\n"
      ]
    },
    {
      "cell_type": "code",
      "metadata": {
        "code-tools": true
      },
      "source": [
        "#| code-fold: true\n",
        "#| code-summary: Show the code\n",
        "\n",
        "# 1. Converting Units of Distance\n",
        "# Distance in kilometers\n",
        "distance_km = 5.0\n",
        "\n",
        "# Conversion factor from kilometers to meters\n",
        "conversion_factor = 1000\n",
        "\n",
        "# Convert distance to meters\n",
        "distance_meters = distance_km * conversion_factor\n",
        "\n",
        "# 2. Calculating Time from Distance and Speed\n",
        "# Given distance in meters\n",
        "distance = 1000.0  # meters\n",
        "\n",
        "# Given speed in meters per second\n",
        "speed = 5.0  # meters per second\n",
        "\n",
        "# Calculate time in seconds\n",
        "time = distance / speed\n",
        "\n",
        "# 3. Energy Calculation Using Kinetic Energy Formula\n",
        "# Mass in kilograms\n",
        "mass = 70.0  # kg\n",
        "\n",
        "# Velocity in meters per second\n",
        "velocity = 10.0  # m/s\n",
        "\n",
        "# Calculate kinetic energy\n",
        "kinetic_energy = 0.5 * mass * velocity ** 2\n",
        "\n",
        "# 4. Temperature Conversion (Celsius to Fahrenheit)\n",
        "# Temperature in Celsius\n",
        "temp_celsius = 25.0  # degrees Celsius\n",
        "\n",
        "# Convert to Fahrenheit\n",
        "temp_fahrenheit = (temp_celsius * 9/5) + 32\n",
        "\n",
        "# 5. Power Calculation Using Work and Time\n",
        "# Work done in joules\n",
        "work_done = 500.0  # joules\n",
        "\n",
        "# Time taken in seconds\n",
        "time_taken = 20.0  # seconds\n",
        "\n",
        "# Calculate power\n",
        "power_output = work_done / time_taken\n",
        "\n",
        "# 6. Calculating Force Using Newton's Second Law\n",
        "# Mass in kilograms\n",
        "mass = 10.0  # kg\n",
        "\n",
        "# Acceleration in meters per second squared\n",
        "acceleration = 9.8  # m/s^2\n",
        "\n",
        "# Calculate force\n",
        "force = mass * acceleration\n",
        "\n",
        "# Output Results\n",
        "print(f\"Distance in meters: {distance_meters} m\")\n",
        "print(f\"Time to travel {distance} meters at {speed} m/s: {time} seconds\")\n",
        "print(f\"Kinetic energy: {kinetic_energy} joules\")\n",
        "print(f\"Temperature in Fahrenheit: {temp_fahrenheit} °F\")\n",
        "print(f\"Power output: {power_output} watts\")\n",
        "print(f\"Force: {force} newtons\")"
      ],
      "execution_count": null,
      "outputs": []
    },
    {
      "cell_type": "markdown",
      "metadata": {},
      "source": [
        "- Simple calculations relevant to physics, such as converting units or calculating simple quantities (e.g., distance = speed × time).\n",
        "  - Homework: Basic practice problems to reinforce Python syntax and operations."
      ]
    }
  ],
  "metadata": {
    "kernelspec": {
      "name": "python3",
      "language": "python",
      "display_name": "Python 3 (ipykernel)"
    }
  },
  "nbformat": 4,
  "nbformat_minor": 4
}